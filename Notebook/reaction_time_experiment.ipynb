{
 "cells": [
  {
   "cell_type": "markdown",
   "metadata": {},
   "source": [
    "<h1>Reaction Time Analysis</h1>"
   ]
  },
  {
   "cell_type": "markdown",
   "metadata": {},
   "source": [
    "<p>The goal of this experiment is to detect, whether there is a difference in the speed with which the users can press keys on a keyboard when given either attentive or pre-attentive tasks. This experiment also should reveal if the speed varies if there are other distracting factors or not.</p>\n",
    "<p>We think that subjects may react faster to preattentive stimuli and that distractions generally slower reactions to either kind of stimuli. But of course it is still possible, that there is no difference at all or things are the other way round. Therefore we have chosen two nondirectional pairs of hypotheses for this experiment:</p>\n",
    "<p><b>H0</b>: Concerning the reaction speed to stimuli, there is <b>NO</b> difference between pre-attentive and attentive stimuli.</p>\n",
    "<p><b>H1:</b> Concerning the reaction speed to stimuli, there is <b>A</b> difference between pre-attentive and attentive stimuli.</p>\n",
    "<p>and</p>\n",
    "<p><b>H0</b>: As users are reacting to attentive and pre-attentive stimuli, there is <b>NO</b> difference in reaction speed if they are presented visual distractions or aren’t.</p>\n",
    "<p><b>H1</b>: As users are reacting to attentive and pre-attentive stimuli, there is <b>A</b> difference in reaction speed if they are presented visual distractions or aren’t.</p>\n",
    "<p>Four subjects (2 female, 2 male), ranging in age from 22 to 30, were tested for this experiment. All subjects were media informatics students.</p>\n",
    "<p>To test our hypotheses, a python program was developed, logging the speed of button presses. This opens up the possibility of simple and effective reaction tests under consistent conditions.</p>\n",
    "<p>The program presents subjects with several screens containing either words or arrows. If a word is shown, a user has to decide if the named “thing” does usually fly or not. If it does, a user has to press the “Arrow Key_UP”, otherwise the user has to press the “Arrow Key_Down”. As there is a process of active thinking involved (“can it fly?”), these words a attentive stimluli.</p>\n",
    "<p>As preattentive stimuli the user is presented arrows facing up or down. Depending on their direction a user has to press the corresponding arrow key. These are simple shapes and their call for action can be interpreted by the user without a real thought process.</p>\n",
    "<p>Additionally the user sometimes is distracted by visual patterns, containing of other arrows. These are chosen to mess with the users mind, and to confuse the user, which button should be pressed.</p>\n",
    "<p>To cover all these different stimuli, the experiment is divided in 4 sections. There is a section with attentive stimuli with distraction (AD), one without distraction (AN) and a section with pre-attentive stimuli with distraction (PD) and one without (PN). These sections are pseudo-randomized through the use of a balanced latin-square. In each section a subject is confronted with 11 repetitions of the same condition. Stimuli are shown in a predetermined time intervall (500ms). Tests are conducted on the keyboard of a late 2013 Macbook Pro 13 inch, with standard german laptop keyboard layout.</p>"
   ]
  },
  {
   "cell_type": "markdown",
   "metadata": {},
   "source": [
    "<h2>Data Import</h2>"
   ]
  },
  {
   "cell_type": "markdown",
   "metadata": {},
   "source": [
    "This section contains code handling the import of experiment data."
   ]
  },
  {
   "cell_type": "code",
   "execution_count": 2,
   "metadata": {
    "collapsed": false,
    "scrolled": true
   },
   "outputs": [],
   "source": [
    "import csv\n",
    "# array for all data\n",
    "overall_data= []\n",
    "# opens a file called 'data.csv'\n",
    "with open('data.csv', newline='') as csvfile:\n",
    "    # reads content of file delimited by comma and saves as data\n",
    "    data = csv.reader(csvfile, delimiter=',')\n",
    "    # saves every row from data in overall_data\n",
    "    # this is done because it seems the file instantly closes after use in this cell\n",
    "    # therefore the data variable seems to become useless\n",
    "    for row in data:\n",
    "        overall_data.append(row)    "
   ]
  },
  {
   "cell_type": "markdown",
   "metadata": {},
   "source": [
    "<h2>Preparation of data</h2>"
   ]
  },
  {
   "cell_type": "markdown",
   "metadata": {},
   "source": [
    "Now the data will be prepared for further processing.\n",
    "Four clusters of data will be build, containing times for attentive and preattentive stimuli, as well as times with and without distractions."
   ]
  },
  {
   "cell_type": "markdown",
   "metadata": {},
   "source": [
    "At first the two groups for attentive and preattentive stimuli will be created."
   ]
  },
  {
   "cell_type": "code",
   "execution_count": 6,
   "metadata": {
    "collapsed": false
   },
   "outputs": [],
   "source": [
    "# overall data is divived into two arrays containing attentive or preattentive reaction times\n",
    "mental_complexity_column_num = 2\n",
    "time_column_num = 7\n",
    "# cannot use row as index position, therefore a counter is needed...\n",
    "row_counter = 0\n",
    "\n",
    "times_attentive = []\n",
    "times_preattentive = []\n",
    "\n",
    "# checks if the word attentive or preattentive is in the row and adds the row to the correspondent array\n",
    "# iterates over rows\n",
    "for row in overall_data:\n",
    "    # checks for keyword attentive\n",
    "    if overall_data[row_counter][mental_complexity_column_num] == 'attentive':\n",
    "        # adds reaction times as float to attentive list\n",
    "        times_attentive.append(float(overall_data[row_counter][time_column_num]))\n",
    "    # checks for keyword preattentive\n",
    "    elif overall_data[row_counter][mental_complexity_column_num] == 'pre-attentive':\n",
    "        # adds reaction times as float to preattentive list\n",
    "        times_preattentive.append(float(overall_data[row_counter][time_column_num]))\n",
    "    # checks for other cases. these are column names in our csv-file\n",
    "    else:\n",
    "        # skips them\n",
    "        pass\n",
    "    row_counter+=1"
   ]
  },
  {
   "cell_type": "markdown",
   "metadata": {},
   "source": [
    "In the same way the groups for distraction and no distraction are built."
   ]
  },
  {
   "cell_type": "code",
   "execution_count": 7,
   "metadata": {
    "collapsed": false
   },
   "outputs": [],
   "source": [
    "# overall data is divived into two arrays containing attentive or preattentive reaction times\n",
    "distraction_status_column_num = 3\n",
    "time_column_num = 7\n",
    "# counter needs a reset\n",
    "row_counter = 0\n",
    "\n",
    "times_distraction = []\n",
    "times_nodistraction = []\n",
    "\n",
    "# checks if a the distraction status is marked true or false and adds the row to the correspondent array\n",
    "# iterates over rows\n",
    "for row in overall_data:\n",
    "    # checks for keyword True\n",
    "    if overall_data[row_counter][distraction_status_column_num] == 'True':\n",
    "        # adds reaction times as float to distraction list\n",
    "        times_distraction.append(float(overall_data[row_counter][time_column_num]))\n",
    "    # checks for keyword False\n",
    "    elif overall_data[row_counter][distraction_status_column_num] == 'False':\n",
    "        # adds reaction times as float to nodistraction list\n",
    "        times_nodistraction.append(float(overall_data[row_counter][time_column_num]))\n",
    "    # checks for other cases. these are column names in our csv-file\n",
    "    else:\n",
    "        # skips them\n",
    "        pass\n",
    "    row_counter+=1"
   ]
  },
  {
   "cell_type": "markdown",
   "metadata": {},
   "source": [
    "<h2>Scatter plots</h2>"
   ]
  },
  {
   "cell_type": "markdown",
   "metadata": {},
   "source": [
    "Now scatter plots for each group are created and a combined plot follows in the end."
   ]
  },
  {
   "cell_type": "markdown",
   "metadata": {},
   "source": [
    "<u>Reaction times for attentive stimuli:</u>"
   ]
  },
  {
   "cell_type": "code",
   "execution_count": 9,
   "metadata": {
    "collapsed": true
   },
   "outputs": [],
   "source": [
    "# imports for plots\n",
    "%matplotlib inline\n",
    "from pylab import *"
   ]
  },
  {
   "cell_type": "code",
   "execution_count": 39,
   "metadata": {
    "collapsed": false,
    "scrolled": true
   },
   "outputs": [
    {
     "data": {
      "image/png": "[encoded data removed]",
      "text/plain": [
       "<matplotlib.figure.Figure at 0x7efc7dd59a90>"
      ]
     },
     "metadata": {},
     "output_type": "display_data"
    }
   ],
   "source": [
    "# sets the range for the axis values\n",
    "IDatt = range (len(times_attentive))\n",
    "# draws scatter plot\n",
    "att = scatter(times_attentive, IDatt, color='red')"
   ]
  },
  {
   "cell_type": "markdown",
   "metadata": {},
   "source": [
    "<u>Reaction times for pre-attentive stimuli:</u>"
   ]
  },
  {
   "cell_type": "code",
   "execution_count": 24,
   "metadata": {
    "collapsed": false
   },
   "outputs": [
    {
     "data": {
      "image/png": "[encoded data removed]",
      "text/plain": [
       "<matplotlib.figure.Figure at 0x7efc7df82da0>"
      ]
     },
     "metadata": {},
     "output_type": "display_data"
    }
   ],
   "source": [
    "# sets the range for the axis values\n",
    "IDpreatt = range (len(times_preattentive))\n",
    "# draws the scatter plot\n",
    "preatt = scatter(times_preattentive, IDpreatt, color='orange')"
   ]
  },
  {
   "cell_type": "markdown",
   "metadata": {},
   "source": [
    "<u>Reaction times with distraction:</u>"
   ]
  },
  {
   "cell_type": "code",
   "execution_count": 25,
   "metadata": {
    "collapsed": false
   },
   "outputs": [
    {
     "data": {
      "image/png": "[encoded data removed]",
      "text/plain": [
       "<matplotlib.figure.Figure at 0x7efc7def69b0>"
      ]
     },
     "metadata": {},
     "output_type": "display_data"
    }
   ],
   "source": [
    "# sets the range for the axis values\n",
    "IDdist = range (len(times_distraction))\n",
    "# draws the scatter plot\n",
    "dist = scatter(times_distraction, IDdist, color='green')"
   ]
  },
  {
   "cell_type": "markdown",
   "metadata": {},
   "source": [
    "<u>Reaction times without distraction:</u>"
   ]
  },
  {
   "cell_type": "code",
   "execution_count": 26,
   "metadata": {
    "collapsed": false
   },
   "outputs": [
    {
     "data": {
      "image/png": "[encoded data removed]",
      "text/plain": [
       "<matplotlib.figure.Figure at 0x7efc7dedb5f8>"
      ]
     },
     "metadata": {},
     "output_type": "display_data"
    }
   ],
   "source": [
    "# sets the range for the axis values\n",
    "IDnodist = range (len(times_nodistraction))\n",
    "# draws the scatter plot\n",
    "nodist = scatter(times_nodistraction, IDnodist, color=\"blue\")"
   ]
  },
  {
   "cell_type": "markdown",
   "metadata": {},
   "source": [
    "<u>Reaction times combined:</u>"
   ]
  },
  {
   "cell_type": "code",
   "execution_count": 30,
   "metadata": {
    "collapsed": false
   },
   "outputs": [
    {
     "data": {
      "image/png": "[encoded data removed]",
      "text/plain": [
       "<matplotlib.figure.Figure at 0x7efc7e501b38>"
      ]
     },
     "metadata": {},
     "output_type": "display_data"
    }
   ],
   "source": [
    "# sets the maximum range of all earlier used ranges as range for the axis values\n",
    "cID = range(len(max(times_attentive, times_preattentive, times_distraction, times_nodistraction)))\n",
    "# draws the four scatter plots\n",
    "catt = scatter(times_attentive, cID, color = 'red')\n",
    "cpreatt = scatter(times_preattentive, cID, color = 'orange')\n",
    "cdist = scatter(times_distraction, cID, color = 'green')\n",
    "cnodist = scatter(times_nodistraction, cID, color = 'blue')"
   ]
  },
  {
   "cell_type": "markdown",
   "metadata": {},
   "source": [
    "<h2>Box plots</h2>"
   ]
  },
  {
   "cell_type": "markdown",
   "metadata": {},
   "source": [
    "This section shows the boxplot for all four data samples."
   ]
  },
  {
   "cell_type": "code",
   "execution_count": 49,
   "metadata": {
    "collapsed": false
   },
   "outputs": [
    {
     "data": {
      "image/png": "[encoded data removed]",
      "text/plain": [
       "<matplotlib.figure.Figure at 0x7efc7e435390>"
      ]
     },
     "metadata": {},
     "output_type": "display_data"
    }
   ],
   "source": [
    "# draws the boxplots\n",
    "boxplot([times_attentive, times_preattentive, times_distraction, times_nodistraction]);"
   ]
  },
  {
   "cell_type": "markdown",
   "metadata": {},
   "source": [
    "<h2>T-tests</h2>"
   ]
  },
  {
   "cell_type": "markdown",
   "metadata": {},
   "source": [
    "Now two t-tests are performed to evaluate our hypotheses. First the difference between attentive and preattentive stimuli is tested, after that the difference with or without distraction is tested."
   ]
  },
  {
   "cell_type": "code",
   "execution_count": 141,
   "metadata": {
    "collapsed": true
   },
   "outputs": [],
   "source": [
    "from scipy.stats import ttest_ind, ttest_rel, ttest_1samp"
   ]
  },
  {
   "cell_type": "code",
   "execution_count": 143,
   "metadata": {
    "collapsed": false
   },
   "outputs": [
    {
     "name": "stdout",
     "output_type": "stream",
     "text": [
      "p-value: 0.000\n"
     ]
    }
   ],
   "source": [
    "# t-test for difference attentive and preattentive\n",
    "t_statistic, p_value = ttest_ind(times_attentive, times_preattentive)\n",
    "print(\"p-value: %2.3f\" %(p_value))\n",
    "# below 0.05 is statistically significant"
   ]
  },
  {
   "cell_type": "code",
   "execution_count": 144,
   "metadata": {
    "collapsed": false
   },
   "outputs": [
    {
     "name": "stdout",
     "output_type": "stream",
     "text": [
      "p-value: 0.002\n"
     ]
    }
   ],
   "source": [
    "# t-test for difference distraction and nodistraction\n",
    "t_statistic, p_value = ttest_ind(times_distraction, times_nodistraction)\n",
    "print(\"p-value: %2.3f\" %(p_value))\n",
    "# below 0.05 is statistically significant"
   ]
  },
  {
   "cell_type": "markdown",
   "metadata": {},
   "source": [
    "<h2>Brief discussion of results</h2>"
   ]
  },
  {
   "cell_type": "markdown",
   "metadata": {},
   "source": [
    "both p-values are lower than 0.05 so both results are statistically significant"
   ]
  }
 ],
 "metadata": {
  "kernelspec": {
   "display_name": "Python 3",
   "language": "python",
   "name": "python3"
  },
  "language_info": {
   "codemirror_mode": {
    "name": "ipython",
    "version": 3
   },
   "file_extension": ".py",
   "mimetype": "text/x-python",
   "name": "python",
   "nbconvert_exporter": "python",
   "pygments_lexer": "ipython3",
   "version": "3.5.3"
  }
 },
 "nbformat": 4,
 "nbformat_minor": 2
}
