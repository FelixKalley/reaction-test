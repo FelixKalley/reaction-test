{
 "cells": [
  {
   "cell_type": "markdown",
   "metadata": {},
   "source": [
    "<h1>Reaction Time Analysis</h1>"
   ]
  },
  {
   "cell_type": "markdown",
   "metadata": {},
   "source": [
    "<p>The goal of this experiment is to detect, whether there is a difference in the speed with which the users can press keys on a keyboard when given either attentive or pre-attentive tasks. This experiment also should reveal if the speed varies if there are other distracting factors or not.</p>\n",
    "<p>We think that subjects may react faster to preattentive stimuli and that distractions generally slowers reactions to either kind of stimuli. But of course it is still possible, that there is no difference at all or things are the other way round. Therefor we have chosen two nondirectional pairs of hypotheses for this experiment:</p>\n",
    "<p>H1: Concerning the reaction speed to stimuli, there is A difference between pre-attentive and attentive stimuli.</p>\n",
    "<p>and</p>\n",
    "<p>H1: As users are reacting to attentive and pre-attentive stimuli, there is A difference in reaction speed if they are presented visual distractions or aren’t.</p>\n",
    "<p>Four subjects (2 female, 2 male), ranging in age from 22 to 30, were tested for this experiment. All subjects are media informatics students.</p>\n",
    "<p>To test our hypotheses, a python program were developed, logging the speed of button presses. This opens up the possibility of simple and effective reaction tests under consistent conditions.</p>\n",
    "<p>The program presents subjects with several screens containing either words or arrows. If a word is shown, a user has to decide if the named “thing” does usually fly or not. If it does, a user has to press the “Arrow Key_UP”, otherwise the user has to press the “Arrow Key_Down”. As there is a process of active thinking involved (“can it fly?”), these words a attentive stimluli.</p>\n",
    "<p>As preattentive stimuli the user is presented arrows facing up or down. Depending on their direction a user has to press the corresponding arrow key. These are simple shapes and their call for action can be interpreted by the user without a real thought process.</p>\n",
    "<p>Additionally the user sometimes is distracted by visual patterns, containing of other arrows. These are chosen to mess with the users mind, and to confuse the user, which button should be pressed.</p>\n",
    "<p>To cover all these different stimuli, the experiment is divided in 4 sections. There is a section with attentive stimuli with distraction (AD), one without distraction (AN) and a section with pre-attentive stimuli with distraction (PD) and one without (PN). These sections are pseudo-randomized through the use of a balanced latin-square. In each section a subject is confronted with 11 repetitions of the same condition. Stimuli are shown in a predetermined time intervall (500ms). Tests are conducted on the keyboard of a late 2013 Macbook Pro 13 inch, with standard german laptop keyboard layout.</p>"
   ]
  },
  {
   "cell_type": "markdown",
   "metadata": {},
   "source": [
    "<h2>Data Import</h2>"
   ]
  },
  {
   "cell_type": "code",
   "execution_count": 2,
   "metadata": {
    "collapsed": false,
    "scrolled": true
   },
   "outputs": [],
   "source": [
    "import csv\n",
    "# array for all data\n",
    "overall_data= []\n",
    "# opens a file called 'data.csv'\n",
    "with open('data.csv', newline='') as csvfile:\n",
    "    # reads content of file delimited by comma and saves as data\n",
    "    data = csv.reader(csvfile, delimiter=',')\n",
    "    # saves every row from data in overall_data\n",
    "    # this is done because it seems the file instantly closes after use in this cell\n",
    "    # therefore the data variable seems to become useless\n",
    "    for row in data:\n",
    "        overall_data.append(row)\n",
    "\n",
    "    "
   ]
  },
  {
   "cell_type": "code",
   "execution_count": 3,
   "metadata": {
    "collapsed": false,
    "scrolled": true
   },
   "outputs": [
    {
     "name": "stdout",
     "output_type": "stream",
     "text": [
      "['participant_ID', 'stimulus', 'mental_complexity', 'distraction', 'pressed_key', 'correct_key', 'correct_key_pressed', 'reaction_time_in_ms', 'timestamp']\n",
      "['1', 'spaceship', 'attentive', 'True', 'up', 'up', 'True', '871', '2017-05-25 18:13:11']\n",
      "['1', 'bee', 'attentive', 'True', 'up', 'up', 'True', '597', '2017-05-25 18:13:12']\n",
      "['1', 'table', 'attentive', 'True', 'down', 'down', 'True', '714', '2017-05-25 18:13:14']\n",
      "['1', 'superman', 'attentive', 'True', 'up', 'up', 'True', '666', '2017-05-25 18:13:15']\n",
      "['1', 'dragon', 'attentive', 'True', 'up', 'up', 'True', '658', '2017-05-25 18:13:16']\n",
      "['1', 'U.F.O.', 'attentive', 'True', 'up', 'up', 'True', '595', '2017-05-25 18:13:17']\n",
      "['1', 'bus', 'attentive', 'True', 'down', 'down', 'True', '690', '2017-05-25 18:13:18']\n",
      "['1', 'you', 'attentive', 'True', 'down', 'down', 'True', '522', '2017-05-25 18:13:19']\n",
      "['1', 'bee', 'attentive', 'True', 'up', 'up', 'True', '650', '2017-05-25 18:13:20']\n",
      "['1', 'car', 'attentive', 'True', 'down', 'down', 'True', '659', '2017-05-25 18:13:22']\n",
      "['1', 'superman', 'attentive', 'True', 'up', 'up', 'True', '608', '2017-05-25 18:13:23']\n",
      "['1', 'bus', 'attentive', 'False', 'down', 'down', 'True', '1049', '2017-05-25 18:13:24']\n",
      "['1', 'bee', 'attentive', 'False', 'down', 'up', 'False', '505', '2017-05-25 18:13:25']\n",
      "['1', 'guitar', 'attentive', 'False', 'down', 'down', 'True', '569', '2017-05-25 18:13:26']\n",
      "['1', 'dragon', 'attentive', 'False', 'up', 'up', 'True', '530', '2017-05-25 18:13:27']\n",
      "['1', 'pizza', 'attentive', 'False', 'down', 'down', 'True', '642', '2017-05-25 18:13:29']\n",
      "['1', 'bee', 'attentive', 'False', 'up', 'up', 'True', '531', '2017-05-25 18:13:30']\n",
      "['1', 'cat', 'attentive', 'False', 'down', 'down', 'True', '538', '2017-05-25 18:13:31']\n",
      "['1', 'table', 'attentive', 'False', 'down', 'down', 'True', '578', '2017-05-25 18:13:32']\n",
      "['1', 'pizza', 'attentive', 'False', 'down', 'down', 'True', '562', '2017-05-25 18:13:33']\n",
      "['1', 'bird', 'attentive', 'False', 'up', 'up', 'True', '634', '2017-05-25 18:13:34']\n",
      "['1', 'bee', 'attentive', 'False', 'up', 'up', 'True', '658', '2017-05-25 18:13:35']\n",
      "['1', '▲', 'pre-attentive', 'True', 'up', 'up', 'True', '666', '2017-05-25 18:13:36']\n",
      "['1', '▼', 'pre-attentive', 'True', 'down', 'down', 'True', '562', '2017-05-25 18:13:37']\n",
      "['1', '▲', 'pre-attentive', 'True', 'up', 'up', 'True', '426', '2017-05-25 18:13:38']\n",
      "['1', '▼', 'pre-attentive', 'True', 'down', 'down', 'True', '434', '2017-05-25 18:13:39']\n",
      "['1', '▲', 'pre-attentive', 'True', 'up', 'up', 'True', '394', '2017-05-25 18:13:40']\n",
      "['1', '▼', 'pre-attentive', 'True', 'down', 'down', 'True', '362', '2017-05-25 18:13:41']\n",
      "['1', '▲', 'pre-attentive', 'True', 'up', 'up', 'True', '418', '2017-05-25 18:13:42']\n",
      "['1', '▲', 'pre-attentive', 'True', 'up', 'up', 'True', '410', '2017-05-25 18:13:43']\n",
      "['1', '▼', 'pre-attentive', 'True', 'down', 'down', 'True', '522', '2017-05-25 18:13:44']\n",
      "['1', '▲', 'pre-attentive', 'True', 'up', 'up', 'True', '441', '2017-05-25 18:13:45']\n",
      "['1', '▲', 'pre-attentive', 'True', 'up', 'up', 'True', '514', '2017-05-25 18:13:46']\n",
      "['1', '▲', 'pre-attentive', 'False', 'up', 'up', 'True', '506', '2017-05-25 18:13:47']\n",
      "['1', '▲', 'pre-attentive', 'False', 'up', 'up', 'True', '458', '2017-05-25 18:13:48']\n",
      "['1', '▲', 'pre-attentive', 'False', 'up', 'up', 'True', '314', '2017-05-25 18:13:49']\n",
      "['1', '▼', 'pre-attentive', 'False', 'down', 'down', 'True', '474', '2017-05-25 18:13:50']\n",
      "['1', '▲', 'pre-attentive', 'False', 'up', 'up', 'True', '370', '2017-05-25 18:13:50']\n",
      "['1', '▼', 'pre-attentive', 'False', 'down', 'down', 'True', '386', '2017-05-25 18:13:51']\n",
      "['1', '▲', 'pre-attentive', 'False', 'up', 'up', 'True', '434', '2017-05-25 18:13:52']\n",
      "['1', '▲', 'pre-attentive', 'False', 'up', 'up', 'True', '330', '2017-05-25 18:13:53']\n",
      "['1', '▼', 'pre-attentive', 'False', 'down', 'down', 'True', '698', '2017-05-25 18:13:54']\n",
      "['1', '▲', 'pre-attentive', 'False', 'up', 'up', 'True', '418', '2017-05-25 18:13:55']\n",
      "['1', '▲', 'pre-attentive', 'False', 'up', 'up', 'True', '602', '2017-05-25 18:13:56']\n",
      "['2', '▼', 'pre-attentive', 'False', 'up', 'down', 'False', '421', '2017-05-25 19:14:58']\n",
      "['2', '▼', 'pre-attentive', 'False', 'down', 'down', 'True', '594', '2017-05-25 19:14:59']\n",
      "['2', '▲', 'pre-attentive', 'False', 'up', 'up', 'True', '498', '2017-05-25 19:15:00']\n",
      "['2', '▲', 'pre-attentive', 'False', 'up', 'up', 'True', '418', '2017-05-25 19:15:01']\n",
      "['2', '▲', 'pre-attentive', 'False', 'up', 'up', 'True', '353', '2017-05-25 19:15:02']\n",
      "['2', '▼', 'pre-attentive', 'False', 'down', 'down', 'True', '418', '2017-05-25 19:15:03']\n",
      "['2', '▼', 'pre-attentive', 'False', 'down', 'down', 'True', '474', '2017-05-25 19:15:04']\n",
      "['2', '▲', 'pre-attentive', 'False', 'up', 'up', 'True', '465', '2017-05-25 19:15:05']\n",
      "['2', '▲', 'pre-attentive', 'False', 'up', 'up', 'True', '458', '2017-05-25 19:15:06']\n",
      "['2', '▲', 'pre-attentive', 'False', 'down', 'up', 'False', '458', '2017-05-25 19:15:07']\n",
      "['2', '▼', 'pre-attentive', 'False', 'down', 'down', 'True', '450', '2017-05-25 19:15:08']\n",
      "['2', '▼', 'pre-attentive', 'True', 'down', 'down', 'True', '514', '2017-05-25 19:15:09']\n",
      "['2', '▲', 'pre-attentive', 'True', 'up', 'up', 'True', '594', '2017-05-25 19:15:10']\n",
      "['2', '▼', 'pre-attentive', 'True', 'down', 'down', 'True', '506', '2017-05-25 19:15:11']\n",
      "['2', '▲', 'pre-attentive', 'True', 'up', 'up', 'True', '402', '2017-05-25 19:15:12']\n",
      "['2', '▲', 'pre-attentive', 'True', 'up', 'up', 'True', '530', '2017-05-25 19:15:13']\n",
      "['2', '▼', 'pre-attentive', 'True', 'up', 'down', 'False', '466', '2017-05-25 19:15:14']\n",
      "['2', '▲', 'pre-attentive', 'True', 'up', 'up', 'True', '553', '2017-05-25 19:15:15']\n",
      "['2', '▲', 'pre-attentive', 'True', 'up', 'up', 'True', '490', '2017-05-25 19:15:16']\n",
      "['2', '▲', 'pre-attentive', 'True', 'up', 'up', 'True', '441', '2017-05-25 19:15:17']\n",
      "['2', '▲', 'pre-attentive', 'True', 'up', 'up', 'True', '425', '2017-05-25 19:15:18']\n",
      "['2', '▲', 'pre-attentive', 'True', 'up', 'up', 'True', '402', '2017-05-25 19:15:18']\n",
      "['2', 'U.F.O.', 'attentive', 'False', 'up', 'up', 'True', '1410', '2017-05-25 19:15:20']\n",
      "['2', 'U.F.O.', 'attentive', 'False', 'up', 'up', 'True', '474', '2017-05-25 19:15:21']\n",
      "['2', 'table', 'attentive', 'False', 'down', 'down', 'True', '801', '2017-05-25 19:15:23']\n",
      "['2', 'butterfly', 'attentive', 'False', 'up', 'up', 'True', '818', '2017-05-25 19:15:24']\n",
      "['2', 'guitar', 'attentive', 'False', 'down', 'down', 'True', '642', '2017-05-25 19:15:25']\n",
      "['2', 'butterfly', 'attentive', 'False', 'down', 'up', 'False', '633', '2017-05-25 19:15:26']\n",
      "['2', 'dragon', 'attentive', 'False', 'down', 'up', 'False', '506', '2017-05-25 19:15:27']\n",
      "['2', 'bus', 'attentive', 'False', 'down', 'down', 'True', '618', '2017-05-25 19:15:28']\n",
      "['2', 'guitar', 'attentive', 'False', 'down', 'down', 'True', '722', '2017-05-25 19:15:30']\n",
      "['2', 'spaceship', 'attentive', 'False', 'up', 'up', 'True', '738', '2017-05-25 19:15:31']\n",
      "['2', 'spaceship', 'attentive', 'False', 'down', 'up', 'False', '465', '2017-05-25 19:15:32']\n",
      "['2', 'bird', 'attentive', 'True', 'down', 'up', 'False', '994', '2017-05-25 19:15:33']\n",
      "['2', 'guitar', 'attentive', 'True', 'down', 'down', 'True', '1018', '2017-05-25 19:15:35']\n",
      "['2', 'bee', 'attentive', 'True', 'down', 'up', 'False', '514', '2017-05-25 19:15:36']\n",
      "['2', 'you', 'attentive', 'True', 'down', 'down', 'True', '618', '2017-05-25 19:15:37']\n",
      "['2', 'bus', 'attentive', 'True', 'down', 'down', 'True', '914', '2017-05-25 19:15:38']\n",
      "['2', 'superman', 'attentive', 'True', 'up', 'up', 'True', '738', '2017-05-25 19:15:40']\n",
      "['2', 'car', 'attentive', 'True', 'down', 'down', 'True', '890', '2017-05-25 19:15:41']\n",
      "['2', 'helicopter', 'attentive', 'True', 'up', 'up', 'True', '721', '2017-05-25 19:15:42']\n",
      "['2', 'dog', 'attentive', 'True', 'down', 'down', 'True', '758', '2017-05-25 19:15:43']\n",
      "['2', 'car', 'attentive', 'True', 'down', 'down', 'True', '2530', '2017-05-25 19:15:46']\n",
      "['2', 'butterfly', 'attentive', 'True', 'up', 'up', 'True', '1010', '2017-05-25 19:15:48']\n",
      "['3', 'you', 'attentive', 'False', 'down', 'down', 'True', '680', '2017-05-25 21:14:46']\n",
      "['3', 'spaceship', 'attentive', 'False', 'up', 'up', 'True', '797', '2017-05-25 21:14:47']\n",
      "['3', 'spaceship', 'attentive', 'False', 'up', 'up', 'True', '598', '2017-05-25 21:14:49']\n",
      "['3', 'cat', 'attentive', 'False', 'down', 'down', 'True', '592', '2017-05-25 21:14:50']\n",
      "['3', 'dog', 'attentive', 'False', 'down', 'down', 'True', '706', '2017-05-25 21:14:51']\n",
      "['3', 'bus', 'attentive', 'False', 'down', 'down', 'True', '770', '2017-05-25 21:14:52']\n",
      "['3', 'boat', 'attentive', 'False', 'down', 'down', 'True', '547', '2017-05-25 21:14:53']\n",
      "['3', 'fly', 'attentive', 'False', 'up', 'up', 'True', '633', '2017-05-25 21:14:54']\n",
      "['3', 'helicopter', 'attentive', 'False', 'up', 'up', 'True', '634', '2017-05-25 21:14:55']\n",
      "['3', 'cat', 'attentive', 'False', 'down', 'down', 'True', '746', '2017-05-25 21:14:57']\n",
      "['3', 'airplane', 'attentive', 'False', 'up', 'up', 'True', '594', '2017-05-25 21:14:58']\n",
      "['3', '▼', 'pre-attentive', 'False', 'down', 'down', 'True', '630', '2017-05-25 21:14:59']\n",
      "['3', '▲', 'pre-attentive', 'False', 'down', 'up', 'False', '391', '2017-05-25 21:15:00']\n",
      "['3', '▲', 'pre-attentive', 'False', 'up', 'up', 'True', '505', '2017-05-25 21:15:01']\n",
      "['3', '▲', 'pre-attentive', 'False', 'up', 'up', 'True', '442', '2017-05-25 21:15:02']\n",
      "['3', '▲', 'pre-attentive', 'False', 'up', 'up', 'True', '404', '2017-05-25 21:15:03']\n",
      "['3', '▼', 'pre-attentive', 'False', 'down', 'down', 'True', '464', '2017-05-25 21:15:04']\n",
      "['3', '▼', 'pre-attentive', 'False', 'down', 'down', 'True', '449', '2017-05-25 21:15:05']\n",
      "['3', '▼', 'pre-attentive', 'False', 'down', 'down', 'True', '417', '2017-05-25 21:15:05']\n",
      "['3', '▼', 'pre-attentive', 'False', 'down', 'down', 'True', '402', '2017-05-25 21:15:06']\n",
      "['3', '▲', 'pre-attentive', 'False', 'up', 'up', 'True', '492', '2017-05-25 21:15:07']\n",
      "['3', '▲', 'pre-attentive', 'False', 'up', 'up', 'True', '471', '2017-05-25 21:15:08']\n",
      "['3', 'you', 'attentive', 'True', 'down', 'down', 'True', '666', '2017-05-25 21:15:10']\n",
      "['3', 'bus', 'attentive', 'True', 'down', 'down', 'True', '1201', '2017-05-25 21:15:11']\n",
      "['3', 'dog', 'attentive', 'True', 'down', 'down', 'True', '850', '2017-05-25 21:15:13']\n",
      "['3', 'airplane', 'attentive', 'True', 'up', 'up', 'True', '866', '2017-05-25 21:15:14']\n",
      "['3', 'cat', 'attentive', 'True', 'down', 'down', 'True', '611', '2017-05-25 21:15:15']\n",
      "['3', 'airplane', 'attentive', 'True', 'up', 'up', 'True', '578', '2017-05-25 21:15:16']\n",
      "['3', 'U.F.O.', 'attentive', 'True', 'up', 'up', 'True', '675', '2017-05-25 21:15:17']\n",
      "['3', 'spaceship', 'attentive', 'True', 'up', 'up', 'True', '961', '2017-05-25 21:15:19']\n",
      "['3', 'dog', 'attentive', 'True', 'down', 'down', 'True', '762', '2017-05-25 21:15:20']\n",
      "['3', 'dog', 'attentive', 'True', 'down', 'down', 'True', '713', '2017-05-25 21:15:21']\n",
      "['3', 'car', 'attentive', 'True', 'down', 'down', 'True', '738', '2017-05-25 21:15:23']\n",
      "['3', '▼', 'pre-attentive', 'True', 'up', 'down', 'False', '626', '2017-05-25 21:15:24']\n",
      "['3', '▼', 'pre-attentive', 'True', 'down', 'down', 'True', '523', '2017-05-25 21:15:25']\n",
      "['3', '▲', 'pre-attentive', 'True', 'up', 'up', 'True', '538', '2017-05-25 21:15:26']\n",
      "['3', '▼', 'pre-attentive', 'True', 'down', 'down', 'True', '690', '2017-05-25 21:15:27']\n",
      "['3', '▲', 'pre-attentive', 'True', 'up', 'up', 'True', '513', '2017-05-25 21:15:28']\n",
      "['3', '▲', 'pre-attentive', 'True', 'up', 'up', 'True', '450', '2017-05-25 21:15:29']\n",
      "['3', '▼', 'pre-attentive', 'True', 'down', 'down', 'True', '832', '2017-05-25 21:15:30']\n",
      "['3', '▼', 'pre-attentive', 'True', 'down', 'down', 'True', '915', '2017-05-25 21:15:32']\n",
      "['3', '▲', 'pre-attentive', 'True', 'up', 'up', 'True', '651', '2017-05-25 21:15:33']\n",
      "['3', '▼', 'pre-attentive', 'True', 'down', 'down', 'True', '744', '2017-05-25 21:15:34']\n",
      "['3', '▼', 'pre-attentive', 'True', 'down', 'down', 'True', '817', '2017-05-25 21:15:35']\n",
      "['4', '▲', 'pre-attentive', 'True', 'up', 'up', 'True', '1080', '2017-05-25 21:17:46']\n",
      "['4', '▲', 'pre-attentive', 'True', 'up', 'up', 'True', '851', '2017-05-25 21:17:47']\n",
      "['4', '▲', 'pre-attentive', 'True', 'up', 'up', 'True', '376', '2017-05-25 21:17:48']\n",
      "['4', '▼', 'pre-attentive', 'True', 'down', 'down', 'True', '553', '2017-05-25 21:17:49']\n",
      "['4', '▼', 'pre-attentive', 'True', 'down', 'down', 'True', '498', '2017-05-25 21:17:50']\n",
      "['4', '▲', 'pre-attentive', 'True', 'up', 'up', 'True', '466', '2017-05-25 21:17:51']\n",
      "['4', '▲', 'pre-attentive', 'True', 'up', 'up', 'True', '394', '2017-05-25 21:17:52']\n",
      "['4', '▼', 'pre-attentive', 'True', 'up', 'down', 'False', '322', '2017-05-25 21:17:53']\n",
      "['4', '▲', 'pre-attentive', 'True', 'up', 'up', 'True', '506', '2017-05-25 21:17:54']\n",
      "['4', '▼', 'pre-attentive', 'True', 'down', 'down', 'True', '442', '2017-05-25 21:17:55']\n",
      "['4', '▲', 'pre-attentive', 'True', 'up', 'up', 'True', '506', '2017-05-25 21:17:56']\n",
      "['4', 'spaceship', 'attentive', 'True', 'up', 'up', 'True', '754', '2017-05-25 21:17:57']\n",
      "['4', 'butterfly', 'attentive', 'True', 'up', 'up', 'True', '704', '2017-05-25 21:17:58']\n",
      "['4', 'butterfly', 'attentive', 'True', 'up', 'up', 'True', '580', '2017-05-25 21:17:59']\n",
      "['4', 'helicopter', 'attentive', 'True', 'up', 'up', 'True', '552', '2017-05-25 21:18:00']\n",
      "['4', 'pizza', 'attentive', 'True', 'down', 'down', 'True', '529', '2017-05-25 21:18:01']\n",
      "['4', 'superman', 'attentive', 'True', 'up', 'up', 'True', '639', '2017-05-25 21:18:02']\n",
      "['4', 'superman', 'attentive', 'True', 'up', 'up', 'True', '474', '2017-05-25 21:18:03']\n",
      "['4', 'helicopter', 'attentive', 'True', 'up', 'up', 'True', '498', '2017-05-25 21:18:04']\n",
      "['4', 'fly', 'attentive', 'True', 'up', 'up', 'True', '642', '2017-05-25 21:18:06']\n",
      "['4', 'helicopter', 'attentive', 'True', 'up', 'up', 'True', '602', '2017-05-25 21:18:07']\n",
      "['4', 'butterfly', 'attentive', 'True', 'up', 'up', 'True', '562', '2017-05-25 21:18:08']\n",
      "['4', '▼', 'pre-attentive', 'False', 'down', 'down', 'True', '528', '2017-05-25 21:18:09']\n",
      "['4', '▲', 'pre-attentive', 'False', 'up', 'up', 'True', '450', '2017-05-25 21:18:10']\n",
      "['4', '▲', 'pre-attentive', 'False', 'up', 'up', 'True', '402', '2017-05-25 21:18:11']\n",
      "['4', '▼', 'pre-attentive', 'False', 'down', 'down', 'True', '458', '2017-05-25 21:18:12']\n",
      "['4', '▼', 'pre-attentive', 'False', 'down', 'down', 'True', '505', '2017-05-25 21:18:13']\n",
      "['4', '▲', 'pre-attentive', 'False', 'up', 'up', 'True', '370', '2017-05-25 21:18:13']\n",
      "['4', '▲', 'pre-attentive', 'False', 'up', 'up', 'True', '346', '2017-05-25 21:18:14']\n",
      "['4', '▲', 'pre-attentive', 'False', 'up', 'up', 'True', '314', '2017-05-25 21:18:15']\n",
      "['4', '▼', 'pre-attentive', 'False', 'up', 'down', 'False', '354', '2017-05-25 21:18:16']\n",
      "['4', '▲', 'pre-attentive', 'False', 'up', 'up', 'True', '384', '2017-05-25 21:18:17']\n",
      "['4', '▲', 'pre-attentive', 'False', 'up', 'up', 'True', '506', '2017-05-25 21:18:18']\n",
      "['4', 'helicopter', 'attentive', 'False', 'up', 'up', 'True', '570', '2017-05-25 21:18:19']\n",
      "['4', 'U.F.O.', 'attentive', 'False', 'up', 'up', 'True', '562', '2017-05-25 21:18:20']\n",
      "['4', 'fly', 'attentive', 'False', 'up', 'up', 'True', '562', '2017-05-25 21:18:21']\n",
      "['4', 'guitar', 'attentive', 'False', 'up', 'down', 'False', '490', '2017-05-25 21:18:22']\n",
      "['4', 'bus', 'attentive', 'False', 'down', 'down', 'True', '666', '2017-05-25 21:18:23']\n",
      "['4', 'superman', 'attentive', 'False', 'up', 'up', 'True', '458', '2017-05-25 21:18:24']\n",
      "['4', 'U.F.O.', 'attentive', 'False', 'up', 'up', 'True', '554', '2017-05-25 21:18:25']\n",
      "['4', 'dragon', 'attentive', 'False', 'up', 'up', 'True', '578', '2017-05-25 21:18:26']\n",
      "['4', 'helicopter', 'attentive', 'False', 'up', 'up', 'True', '546', '2017-05-25 21:18:27']\n",
      "['4', 'butterfly', 'attentive', 'False', 'up', 'up', 'True', '497', '2017-05-25 21:18:28']\n",
      "['4', 'superman', 'attentive', 'False', 'up', 'up', 'True', '562', '2017-05-25 21:18:29']\n"
     ]
    }
   ],
   "source": [
    "# prints every row for easier handling of all data\n",
    "# can be deleted before submitting !!!!!!!!!!!!!!!\n",
    "for row in overall_data:\n",
    "    print(row)"
   ]
  },
  {
   "cell_type": "code",
   "execution_count": 4,
   "metadata": {
    "collapsed": true
   },
   "outputs": [],
   "source": [
    "# imports for plots\n",
    "%matplotlib inline\n",
    "from pylab import *"
   ]
  },
  {
   "cell_type": "code",
   "execution_count": 5,
   "metadata": {
    "collapsed": false
   },
   "outputs": [
    {
     "name": "stdout",
     "output_type": "stream",
     "text": [
      "attentive\n"
     ]
    }
   ],
   "source": [
    "# just a test print to see how to access specific items in overall_data\n",
    "# can be deleted before submitting !!!!!!!!!!!!!!!\n",
    "print(overall_data[2][2])"
   ]
  },
  {
   "cell_type": "markdown",
   "metadata": {},
   "source": [
    "<h2>Preparation of data</h2>"
   ]
  },
  {
   "cell_type": "code",
   "execution_count": 6,
   "metadata": {
    "collapsed": false
   },
   "outputs": [
    {
     "name": "stdout",
     "output_type": "stream",
     "text": [
      "[871.0, 597.0, 714.0, 666.0, 658.0, 595.0, 690.0, 522.0, 650.0, 659.0, 608.0, 1049.0, 505.0, 569.0, 530.0, 642.0, 531.0, 538.0, 578.0, 562.0, 634.0, 658.0, 1410.0, 474.0, 801.0, 818.0, 642.0, 633.0, 506.0, 618.0, 722.0, 738.0, 465.0, 994.0, 1018.0, 514.0, 618.0, 914.0, 738.0, 890.0, 721.0, 758.0, 2530.0, 1010.0, 680.0, 797.0, 598.0, 592.0, 706.0, 770.0, 547.0, 633.0, 634.0, 746.0, 594.0, 666.0, 1201.0, 850.0, 866.0, 611.0, 578.0, 675.0, 961.0, 762.0, 713.0, 738.0, 754.0, 704.0, 580.0, 552.0, 529.0, 639.0, 474.0, 498.0, 642.0, 602.0, 562.0, 570.0, 562.0, 562.0, 490.0, 666.0, 458.0, 554.0, 578.0, 546.0, 497.0, 562.0]\n",
      "[666.0, 562.0, 426.0, 434.0, 394.0, 362.0, 418.0, 410.0, 522.0, 441.0, 514.0, 506.0, 458.0, 314.0, 474.0, 370.0, 386.0, 434.0, 330.0, 698.0, 418.0, 602.0, 421.0, 594.0, 498.0, 418.0, 353.0, 418.0, 474.0, 465.0, 458.0, 458.0, 450.0, 514.0, 594.0, 506.0, 402.0, 530.0, 466.0, 553.0, 490.0, 441.0, 425.0, 402.0, 630.0, 391.0, 505.0, 442.0, 404.0, 464.0, 449.0, 417.0, 402.0, 492.0, 471.0, 626.0, 523.0, 538.0, 690.0, 513.0, 450.0, 832.0, 915.0, 651.0, 744.0, 817.0, 1080.0, 851.0, 376.0, 553.0, 498.0, 466.0, 394.0, 322.0, 506.0, 442.0, 506.0, 528.0, 450.0, 402.0, 458.0, 505.0, 370.0, 346.0, 314.0, 354.0, 384.0, 506.0]\n"
     ]
    }
   ],
   "source": [
    "# overall data is divived into two arrays containing attentive or preattentive reaction times\n",
    "mental_complexity_column_num = 2\n",
    "time_column_num = 7\n",
    "# cannot use row as index position, therefore a counter is needed...\n",
    "row_counter = 0\n",
    "\n",
    "times_attentive = []\n",
    "times_preattentive = []\n",
    "\n",
    "# checks if the word attentive or preattentive is in the row and adds the row to the correspondent array\n",
    "# iterates over rows\n",
    "for row in overall_data:\n",
    "    # checks for keyword attentive\n",
    "    if overall_data[row_counter][mental_complexity_column_num] == 'attentive':\n",
    "        # adds reaction times as float to attentive list\n",
    "        times_attentive.append(float(overall_data[row_counter][time_column_num]))\n",
    "    # checks for keyword preattentive\n",
    "    elif overall_data[row_counter][mental_complexity_column_num] == 'pre-attentive':\n",
    "        # adds reaction times as float to preattentive list\n",
    "        times_preattentive.append(float(overall_data[row_counter][time_column_num]))\n",
    "    # checks for other cases. these are column names in our csv-file\n",
    "    else:\n",
    "        # skips them\n",
    "        pass\n",
    "    row_counter+=1\n",
    "    \n",
    "# prints for better visualization while working\n",
    "# # can be deleted before submitting !!!!!!!!!!!!!!!\n",
    "print(times_attentive)\n",
    "print(times_preattentive)"
   ]
  },
  {
   "cell_type": "code",
   "execution_count": 145,
   "metadata": {
    "collapsed": false
   },
   "outputs": [
    {
     "name": "stdout",
     "output_type": "stream",
     "text": [
      "[871.0, 597.0, 714.0, 666.0, 658.0, 595.0, 690.0, 522.0, 650.0, 659.0, 608.0, 666.0, 562.0, 426.0, 434.0, 394.0, 362.0, 418.0, 410.0, 522.0, 441.0, 514.0, 514.0, 594.0, 506.0, 402.0, 530.0, 466.0, 553.0, 490.0, 441.0, 425.0, 402.0, 994.0, 1018.0, 514.0, 618.0, 914.0, 738.0, 890.0, 721.0, 758.0, 2530.0, 1010.0, 666.0, 1201.0, 850.0, 866.0, 611.0, 578.0, 675.0, 961.0, 762.0, 713.0, 738.0, 626.0, 523.0, 538.0, 690.0, 513.0, 450.0, 832.0, 915.0, 651.0, 744.0, 817.0, 1080.0, 851.0, 376.0, 553.0, 498.0, 466.0, 394.0, 322.0, 506.0, 442.0, 506.0, 754.0, 704.0, 580.0, 552.0, 529.0, 639.0, 474.0, 498.0, 642.0, 602.0, 562.0]\n",
      "[1049.0, 505.0, 569.0, 530.0, 642.0, 531.0, 538.0, 578.0, 562.0, 634.0, 658.0, 506.0, 458.0, 314.0, 474.0, 370.0, 386.0, 434.0, 330.0, 698.0, 418.0, 602.0, 421.0, 594.0, 498.0, 418.0, 353.0, 418.0, 474.0, 465.0, 458.0, 458.0, 450.0, 1410.0, 474.0, 801.0, 818.0, 642.0, 633.0, 506.0, 618.0, 722.0, 738.0, 465.0, 680.0, 797.0, 598.0, 592.0, 706.0, 770.0, 547.0, 633.0, 634.0, 746.0, 594.0, 630.0, 391.0, 505.0, 442.0, 404.0, 464.0, 449.0, 417.0, 402.0, 492.0, 471.0, 528.0, 450.0, 402.0, 458.0, 505.0, 370.0, 346.0, 314.0, 354.0, 384.0, 506.0, 570.0, 562.0, 562.0, 490.0, 666.0, 458.0, 554.0, 578.0, 546.0, 497.0, 562.0]\n"
     ]
    }
   ],
   "source": [
    "# overall data is divived into two arrays containing attentive or preattentive reaction times\n",
    "distraction_status_column_num = 3\n",
    "time_column_num = 7\n",
    "# counter needs a reset\n",
    "row_counter = 0\n",
    "\n",
    "times_distraction = []\n",
    "times_nodistraction = []\n",
    "\n",
    "# checks if a the distraction status is marked true or false and adds the row to the correspondent array\n",
    "# iterates over rows\n",
    "for row in overall_data:\n",
    "    # checks for keyword True\n",
    "    if overall_data[row_counter][distraction_status_column_num] == 'True':\n",
    "        # adds reaction times as float to distraction list\n",
    "        times_distraction.append(float(overall_data[row_counter][time_column_num]))\n",
    "    # checks for keyword False\n",
    "    elif overall_data[row_counter][distraction_status_column_num] == 'False':\n",
    "        # adds reaction times as float to nodistraction list\n",
    "        times_nodistraction.append(float(overall_data[row_counter][time_column_num]))\n",
    "    # checks for other cases. these are column names in our csv-file\n",
    "    else:\n",
    "        # skips them\n",
    "        pass\n",
    "    row_counter+=1\n",
    "\n",
    "# prints for better visualization while working\n",
    "# can be deleted before submitting !!!!!!!!!!!!!!!\n",
    "print(times_distraction)\n",
    "print(times_nodistraction)"
   ]
  },
  {
   "cell_type": "markdown",
   "metadata": {},
   "source": [
    "<h2>Scatter plots</h2>"
   ]
  },
  {
   "cell_type": "code",
   "execution_count": 132,
   "metadata": {
    "collapsed": false
   },
   "outputs": [
    {
     "data": {
      "image/png": "[encoded data removed]",
      "text/plain": [
       "<matplotlib.figure.Figure at 0x7fe1769362b0>"
      ]
     },
     "metadata": {},
     "output_type": "display_data"
    }
   ],
   "source": [
    "# sets the range for the axis values\n",
    "IDatt = range (len(times_attentive))\n",
    "# draws scatter plot\n",
    "att = scatter(times_attentive, IDatt)"
   ]
  },
  {
   "cell_type": "code",
   "execution_count": 133,
   "metadata": {
    "collapsed": false
   },
   "outputs": [
    {
     "data": {
      "image/png": "[encoded data removed]",
      "text/plain": [
       "<matplotlib.figure.Figure at 0x7fe176c4d240>"
      ]
     },
     "metadata": {},
     "output_type": "display_data"
    }
   ],
   "source": [
    "# sets the range for the axis values\n",
    "IDpreatt = range (len(times_preattentive))\n",
    "# draws the scatter plot\n",
    "preatt = scatter(times_preattentive, IDpreatt)"
   ]
  },
  {
   "cell_type": "code",
   "execution_count": 134,
   "metadata": {
    "collapsed": false
   },
   "outputs": [
    {
     "data": {
      "image/png": "[encoded data removed]",
      "text/plain": [
       "<matplotlib.figure.Figure at 0x7fe176c2d4a8>"
      ]
     },
     "metadata": {},
     "output_type": "display_data"
    }
   ],
   "source": [
    "# sets the range for the axis values\n",
    "IDdist = range (len(times_distraction))\n",
    "# draws the scatter plot\n",
    "dist = scatter(times_distraction, IDdist)"
   ]
  },
  {
   "cell_type": "code",
   "execution_count": 136,
   "metadata": {
    "collapsed": false
   },
   "outputs": [
    {
     "data": {
      "image/png": "[encoded data removed]",
      "text/plain": [
       "<matplotlib.figure.Figure at 0x7fe17687da90>"
      ]
     },
     "metadata": {},
     "output_type": "display_data"
    }
   ],
   "source": [
    "# sets the range for the axis values\n",
    "IDnodist = range (len(times_nodistraction))\n",
    "# draws the scatter plot\n",
    "nodist = scatter(times_nodistraction, IDnodist)"
   ]
  },
  {
   "cell_type": "code",
   "execution_count": 137,
   "metadata": {
    "collapsed": false
   },
   "outputs": [
    {
     "data": {
      "image/png": "[encoded data removed]",
      "text/plain": [
       "<matplotlib.figure.Figure at 0x7fe17686edd8>"
      ]
     },
     "metadata": {},
     "output_type": "display_data"
    }
   ],
   "source": [
    "# sets the maximum range of all earlier used ranges as range for the axis values\n",
    "cID = range(len(max(times_attentive, times_preattentive, times_distraction, times_nodistraction)))\n",
    "# draws the four scatter plots\n",
    "catt = scatter(times_attentive, cID)\n",
    "cpreatt = scatter(times_preattentive, cID)\n",
    "cdist = scatter(times_distraction, cID)\n",
    "cnodist = scatter(times_nodistraction, cID)"
   ]
  },
  {
   "cell_type": "markdown",
   "metadata": {},
   "source": [
    "<h2>Box plots</h2>"
   ]
  },
  {
   "cell_type": "code",
   "execution_count": 140,
   "metadata": {
    "collapsed": false
   },
   "outputs": [
    {
     "data": {
      "image/png": "[encoded data removed]",
      "text/plain": [
       "<matplotlib.figure.Figure at 0x7fe17685a630>"
      ]
     },
     "metadata": {},
     "output_type": "display_data"
    }
   ],
   "source": [
    "# draws the boxplots\n",
    "boxplot([times_attentive, times_preattentive, times_distraction, times_nodistraction]);"
   ]
  },
  {
   "cell_type": "markdown",
   "metadata": {},
   "source": [
    "<h2>T-tests</h2>"
   ]
  },
  {
   "cell_type": "code",
   "execution_count": 141,
   "metadata": {
    "collapsed": true
   },
   "outputs": [],
   "source": [
    "from scipy.stats import ttest_ind, ttest_rel, ttest_1samp"
   ]
  },
  {
   "cell_type": "code",
   "execution_count": 143,
   "metadata": {
    "collapsed": false
   },
   "outputs": [
    {
     "name": "stdout",
     "output_type": "stream",
     "text": [
      "p-value: 0.000\n"
     ]
    }
   ],
   "source": [
    "# t-test for difference attentive and preattentive\n",
    "t_statistic, p_value = ttest_ind(times_attentive, times_preattentive)\n",
    "print(\"p-value: %2.3f\" %(p_value))\n",
    "# below 0.05 is statistically significant"
   ]
  },
  {
   "cell_type": "code",
   "execution_count": 144,
   "metadata": {
    "collapsed": false
   },
   "outputs": [
    {
     "name": "stdout",
     "output_type": "stream",
     "text": [
      "p-value: 0.002\n"
     ]
    }
   ],
   "source": [
    "# t-test for difference distraction and nodistraction\n",
    "t_statistic, p_value = ttest_ind(times_distraction, times_nodistraction)\n",
    "print(\"p-value: %2.3f\" %(p_value))\n",
    "# below 0.05 is statistically significant"
   ]
  },
  {
   "cell_type": "markdown",
   "metadata": {},
   "source": [
    "<h2>Brief discussion of results</h2>"
   ]
  },
  {
   "cell_type": "markdown",
   "metadata": {},
   "source": [
    "both p-values are lower than 0.05 so both results are statistically significant"
   ]
  }
 ],
 "metadata": {
  "kernelspec": {
   "display_name": "Python 3",
   "language": "python",
   "name": "python3"
  },
  "language_info": {
   "codemirror_mode": {
    "name": "ipython",
    "version": 3
   },
   "file_extension": ".py",
   "mimetype": "text/x-python",
   "name": "python",
   "nbconvert_exporter": "python",
   "pygments_lexer": "ipython3",
   "version": "3.5.3"
  }
 },
 "nbformat": 4,
 "nbformat_minor": 2
}
