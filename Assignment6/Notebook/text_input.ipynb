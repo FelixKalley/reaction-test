{
 "cells": [
  {
   "cell_type": "markdown",
   "metadata": {},
   "source": [
    "<h1>Text Input</h1>"
   ]
  },
  {
   "cell_type": "markdown",
   "metadata": {},
   "source": [
    "Contribution: Felix Kalley, Lena Manschewski"
   ]
  },
  {
   "cell_type": "markdown",
   "metadata": {},
   "source": [
    "<p>As part of an exercise in a university course about interaction techniques and technologies, we tried to optimize the ability to point and click with a computer mouse. Therefore we developed a new pointing method. The goal of this experiment is to detect, whether our technique is advantageous in comparison to the standard cursor behaviour. </p>\n",
    "\n",
    "<h2>Genesis of our Novel pointing technique</h2>\n",
    "<p>Our initial idea was to broaden the area a mouse can click with some kind of a cross (#) shaped cursor. Like a rook in chess can take another piece on the same row or line, our cursor should be able to click a target on the same x (and /)or y-axis. Two horizontal and two vertical lines should define the new clickable area. This approach soon turned out to be problematic, as we need to make sure, only the intended target really got clicked. Our cross cursor should have stretched above all of the screen, so often situations occured, where you could not select a single target, especially with many clickable targets on screen. </p>\n",
    "\n",
    "<p>To solve this problem, we came up with two conditions:\n",
    "\"1) If there are no unwanted targets in the same axis (x or y), you can click the intended target as long as your cursor is on the same axis.\n",
    "2) If there are other targets distracting, you have to select your target with the inner square (defined by the two horizontal and vertical lines #).\n",
    "This approach worked, but turned out to be way too complex to be of any use. Even with extensive periods of training, we seemed to be much slower than with the default cursor. During these tests though, we noticed that we often missclicked a target only by a few pixels with the default cursor, especially when we tried to be fast. Therefore our cross cursor idea was scrapped, but the inner square - mentioned in condition 2 - was kept, though transformed into a circle to even out the distance in every direction. Born was our circle cursor. The idea is still the same, instead of clicking a simple point or pixel, you can now click a broader area, in our case everything covered under a circle of around 20 px.</p>\n",
    "\n",
    "<p>Circle shaped cursors are often used for presenting, to highlight were a presenter is pointing to with his cursor. In contrast to our technique these highlighting cursors are only graphical overlays without extending the range of a click. The main difference between fitts' law pointing technique (default) and our novel technique (special) is that a user doesn't have to aim as precise, so this pointing technique may be faster than the default technique</p>\n",
    "\n",
    "<p> To test our cursor we formulated the following initial pair of hypotheses:</p>\n",
    "\n",
    "<h2>Hypothesis</h2>\n",
    "<p><b>H0</b>: There is <b>no</b> difference between the default and the special pointing technique</p>\n",
    "<p><b>H1</b>: There is <b>a</b> difference between the default and the special pointing technique</p>\n",
    "\n",
    "<p>As variables we chose time between successful target clicks, as well as error rate, number of missclicks before the correct target is clicked. Therefore the following pairs of hypotheses are tested in our analysis:</p>\n",
    "\n",
    "<p><b>H0</b>: There is <b>no</b> difference between the default and the special pointing technique considering time</p>\n",
    "<p><b>H1</b>: There is <b>a</b> difference between the default and the special pointing technique considering time</p>\n",
    "\n",
    "<p><b>H0</b>: There is <b>no</b> difference between the default and the special pointing technique considering error rate</p>\n",
    "<p><b>H1</b>: There is <b>a</b> difference between the default and the special pointing technique considering error rate</p>\n",
    "\n",
    "<h2>Experiment description</h2>\n",
    "<p> At first we developed a  python program which presents several targets on screen. Users had to click marked targets in 40 repetitions, divided in four rounds with 10 targets to click each. As targets we chose colored circles, one of them was colored in a lighter shade than the others. The user was informed that he had to click the lighter shaded circle, the others simply were meant as distraction.</p>\n",
    "\n",
    "<p>Each round uses another base color for the circles, whereas the order of these colors is counter-balanced and defined via the input file. A round is started with a press on the spacebar. Circles have to be clicked with the left mouse button. For each click, the program presents five circles to the subject which differ in size and distance from each other.</p>\n",
    "\n",
    "<p>Four subjects (2 female, 2 male), ranging in age from 22 to 30 years, were tested for this experiment. All subjects were media informatics students. To conduct our experiment we used a Macbook Pro 13 inch (late 2013) and a wireless Logitech M705 mouse. All subjects were tested in a quiet private room.</p>\n",
    "\n",
    "<h2>Interferences</h2>\n",
    "\n",
    "<p>While the colors were not a meaningful part of our experiment, we had to make sure, differing colors don't influence the the experiment in a significant way. To exclude any effects we formulated our hypotheses also for colors:</p>\n",
    "\n",
    "<p><b>H0</b>: There is <b>no</b> difference between circle colors considering time</p>\n",
    "<p><b>H1</b>: There is a difference between circle colors considering time</p>\n",
    "\n",
    "<p><b>H0</b>: There is <b>no</b> difference between circle colors considering error rate</p>\n",
    "<p><b>H1</b>: There is <b>a</b> difference between circle colors considering error rate</p>\n",
    "\n",
    "<h2>Variables</h2>\n",
    "<p> Part of our hypotheses are the following variables:</p>\n",
    "<p><b>Independent:</b> cursor type (or color)</p>\n",
    "<p><b>Dependent:</b> time and error rate</p>\n",
    "\n",
    "<h2> Experiment procedure </h2>\n",
    "<p>Four subjects (2 female, 2 male), ranging in age from 22 to 30 years, were tested for this experiment. All subjects were media informatics students. To conduct our experiment we used a Macbook Pro 13 inch (late 2013) and a wireless Logitech M705 mouse. All subjects were tested in a quiet private room. At the beginning subjects were given instructions and were able to ask questions. Then the python programm was started with the default cursor setting. After completing the test, the program was started with our own cursor method and the test was conducted a second time.</p>\n",
    "\n",
    "<p> All data we collected during the experiments are prepared and evaluated in the following section. </p>"
   ]
  },
  {
   "cell_type": "markdown",
   "metadata": {},
   "source": [
    "<h2>Data Import</h2>"
   ]
  },
  {
   "cell_type": "markdown",
   "metadata": {},
   "source": [
    "This section contains code handling the import of experiment data."
   ]
  },
  {
   "cell_type": "code",
   "execution_count": 104,
   "metadata": {
    "collapsed": false,
    "scrolled": true
   },
   "outputs": [],
   "source": [
    "import csv\n",
    "# array for all data\n",
    "overall_data= []\n",
    "# opens a file called 'data.csv'\n",
    "with open('data.csv', newline='') as csvfile:\n",
    "    # reads content of file delimited by comma and saves as data\n",
    "    data = csv.reader(csvfile, delimiter=',')\n",
    "    # saves every row from data in overall_data\n",
    "    # this is done because it seems the file instantly closes after use in this cell\n",
    "    # therefore the data variable seems to become useless\n",
    "    for row in data:\n",
    "        overall_data.append(row)"
   ]
  },
  {
   "cell_type": "markdown",
   "metadata": {},
   "source": [
    "<h2>Preparation of data</h2>"
   ]
  },
  {
   "cell_type": "markdown",
   "metadata": {},
   "source": [
    "Now the data will be prepared for further processing.\n",
    "Eight clusters of data will be build, containing char, word, sentence typed and test end each for default and novel technique."
   ]
  },
  {
   "cell_type": "code",
   "execution_count": 105,
   "metadata": {
    "collapsed": false
   },
   "outputs": [],
   "source": [
    "# overall data is divived into two arrays containing default and novel techniques times\n",
    "# index of column with technique type data\n",
    "technique_column_num = 0\n",
    "# index of column with input type data\n",
    "input_column_num = 1\n",
    "# index of column with time data\n",
    "time_column_num = 4\n",
    "# cannot use row as index position, therefore a counter is needed...\n",
    "row_counter = 0\n",
    "\n",
    "times_default_chars = []\n",
    "times_default_words = []\n",
    "times_default_sentences = []\n",
    "times_default_finished = []\n",
    "times_novel_chars = []\n",
    "times_novel_words = []\n",
    "times_novel_sentences = []\n",
    "times_novel_finished = []\n",
    "\n",
    "# checks if the word special or novel is in the row and adds the row to the correspondent array\n",
    "# iterates over rows\n",
    "for row in overall_data:\n",
    "    # checks for keyword default\n",
    "    if overall_data[row_counter][technique_column_num] == 'default':\n",
    "        # adds times as float to default list\n",
    "        if overall_data[row_counter][input_column_num] == 'key pressed':\n",
    "            times_default_chars.append(float(overall_data[row_counter][time_column_num]))\n",
    "        elif overall_data[row_counter][input_column_num] == 'word typed':\n",
    "            times_default_words.append(float(overall_data[row_counter][time_column_num]))\n",
    "        elif overall_data[row_counter][input_column_num] == 'sentence typed':\n",
    "            times_default_sentences.append(float(overall_data[row_counter][time_column_num]))\n",
    "        elif overall_data[row_counter][input_column_num] == 'test finished':\n",
    "            times_default_finished.append(float(overall_data[row_counter][time_column_num]))\n",
    "    # checks for keyword novel\n",
    "    elif overall_data[row_counter][technique_column_num] == 'novel':\n",
    "        # adds times as float to novel list\n",
    "        if overall_data[row_counter][input_column_num] == 'key pressed':\n",
    "            times_novel_chars.append(float(overall_data[row_counter][time_column_num]))\n",
    "        elif overall_data[row_counter][input_column_num] == 'word typed':\n",
    "            times_novel_words.append(float(overall_data[row_counter][time_column_num]))\n",
    "        elif overall_data[row_counter][input_column_num] == 'sentence typed':\n",
    "            times_novel_sentences.append(float(overall_data[row_counter][time_column_num]))\n",
    "        elif overall_data[row_counter][input_column_num] == 'test finished':\n",
    "            times_novel_finished.append(float(overall_data[row_counter][time_column_num]))\n",
    "    else:\n",
    "        # skips them\n",
    "        pass\n",
    "    row_counter+=1"
   ]
  },
  {
   "cell_type": "markdown",
   "metadata": {},
   "source": [
    "<h2>Evaluation of \"key pressed\" data</h2>"
   ]
  },
  {
   "cell_type": "markdown",
   "metadata": {},
   "source": [
    "In the following sections \"key pressed\" data will be evaluated."
   ]
  },
  {
   "cell_type": "markdown",
   "metadata": {},
   "source": [
    "<u>Mean, median and standard deviation:</u>"
   ]
  },
  {
   "cell_type": "code",
   "execution_count": 106,
   "metadata": {
    "collapsed": false
   },
   "outputs": [
    {
     "data": {
      "text/plain": [
       "0.27498527828746178"
      ]
     },
     "execution_count": 106,
     "metadata": {},
     "output_type": "execute_result"
    }
   ],
   "source": [
    "mean(times_default_chars)"
   ]
  },
  {
   "cell_type": "code",
   "execution_count": 107,
   "metadata": {
    "collapsed": false
   },
   "outputs": [
    {
     "data": {
      "text/plain": [
       "0.20321"
      ]
     },
     "execution_count": 107,
     "metadata": {},
     "output_type": "execute_result"
    }
   ],
   "source": [
    "median(times_default_chars)"
   ]
  },
  {
   "cell_type": "code",
   "execution_count": 108,
   "metadata": {
    "collapsed": false,
    "scrolled": true
   },
   "outputs": [
    {
     "data": {
      "text/plain": [
       "0.26939903701157419"
      ]
     },
     "execution_count": 108,
     "metadata": {},
     "output_type": "execute_result"
    }
   ],
   "source": [
    "std(times_default_chars)"
   ]
  },
  {
   "cell_type": "code",
   "execution_count": 109,
   "metadata": {
    "collapsed": false
   },
   "outputs": [
    {
     "data": {
      "text/plain": [
       "1.205395684210526"
      ]
     },
     "execution_count": 109,
     "metadata": {},
     "output_type": "execute_result"
    }
   ],
   "source": [
    "mean(times_novel_chars)"
   ]
  },
  {
   "cell_type": "code",
   "execution_count": 110,
   "metadata": {
    "collapsed": false
   },
   "outputs": [
    {
     "data": {
      "text/plain": [
       "1.1230260000000001"
      ]
     },
     "execution_count": 110,
     "metadata": {},
     "output_type": "execute_result"
    }
   ],
   "source": [
    "median(times_novel_chars)"
   ]
  },
  {
   "cell_type": "code",
   "execution_count": 111,
   "metadata": {
    "collapsed": false,
    "scrolled": true
   },
   "outputs": [
    {
     "data": {
      "text/plain": [
       "0.36682355060500366"
      ]
     },
     "execution_count": 111,
     "metadata": {},
     "output_type": "execute_result"
    }
   ],
   "source": [
    "std(times_novel_chars)"
   ]
  },
  {
   "cell_type": "markdown",
   "metadata": {},
   "source": [
    "<h3>Scatter plots and bar plots</h3>"
   ]
  },
  {
   "cell_type": "markdown",
   "metadata": {
    "collapsed": true
   },
   "source": [
    "This section shows scatter plots for key pressed data with default and novel technique with time as x-axis and number of presses as y-axis."
   ]
  },
  {
   "cell_type": "code",
   "execution_count": 112,
   "metadata": {
    "collapsed": true
   },
   "outputs": [],
   "source": [
    "# imports for plots\n",
    "%matplotlib inline\n",
    "from pylab import *"
   ]
  },
  {
   "cell_type": "code",
   "execution_count": 113,
   "metadata": {
    "collapsed": true
   },
   "outputs": [],
   "source": [
    "# sets the size of all following plots\n",
    "rcParams[\"figure.figsize\"] = (13, 8)"
   ]
  },
  {
   "cell_type": "markdown",
   "metadata": {},
   "source": [
    "<u>Times with default technique:</u>"
   ]
  },
  {
   "cell_type": "code",
   "execution_count": 114,
   "metadata": {
    "collapsed": false
   },
   "outputs": [
    {
     "data": {
      "image/png": "[encoded data removed]",
      "text/plain": [
       "<matplotlib.figure.Figure at 0x7ffb088f1c88>"
      ]
     },
     "metadata": {},
     "output_type": "display_data"
    }
   ],
   "source": [
    "# sets the range for the axis values\n",
    "IDdefChar = range (len(times_default_chars))\n",
    "# draws the scatter plot\n",
    "defChar = scatter(times_default_chars, IDdefChar, color='red')\n",
    "legend([defChar], ['key presses'], loc='upper right')\n",
    "xlabel('time in seconds')\n",
    "ylabel('number of key presses')\n",
    "show()"
   ]
  },
  {
   "cell_type": "markdown",
   "metadata": {},
   "source": [
    "<u>Times with novel technique:</u>"
   ]
  },
  {
   "cell_type": "code",
   "execution_count": 115,
   "metadata": {
    "collapsed": false,
    "scrolled": false
   },
   "outputs": [
    {
     "data": {
      "image/png": "[encoded data removed]",
      "text/plain": [
       "<matplotlib.figure.Figure at 0x7ffb085bd048>"
      ]
     },
     "metadata": {},
     "output_type": "display_data"
    }
   ],
   "source": [
    "# sets the range for the axis values\n",
    "IDnovChar = range (len(times_novel_chars))\n",
    "# draws the scatter plot\n",
    "novChar = scatter(times_novel_chars, IDnovChar, color='orange')\n",
    "legend([novChar], ['key presses'], loc='upper right')\n",
    "xlabel('time in seconds')\n",
    "ylabel('number of key presses')\n",
    "show()"
   ]
  },
  {
   "cell_type": "markdown",
   "metadata": {},
   "source": [
    "<h3>Boxplots for key pressed data </h3>"
   ]
  },
  {
   "cell_type": "markdown",
   "metadata": {},
   "source": [
    "This section shows the boxplots for key pressed data samples with times as y-axis."
   ]
  },
  {
   "cell_type": "code",
   "execution_count": 116,
   "metadata": {
    "collapsed": false,
    "scrolled": true
   },
   "outputs": [
    {
     "data": {
      "image/png": "[encoded data removed]",
      "text/plain": [
       "<matplotlib.figure.Figure at 0x7ffb08829358>"
      ]
     },
     "metadata": {},
     "output_type": "display_data"
    }
   ],
   "source": [
    "# draws the boxplots\n",
    "boxplot([times_default_chars, times_novel_chars]);\n",
    "xticks(range(1,3), ['default', 'novel'])\n",
    "ylabel('time in seconds')\n",
    "show()"
   ]
  },
  {
   "cell_type": "markdown",
   "metadata": {},
   "source": [
    "<h3>t-Tests for key pressed data </h3>"
   ]
  },
  {
   "cell_type": "markdown",
   "metadata": {},
   "source": [
    "Now t-tests are calculated for the key pressed data. The difference between default and novel technique is tested considering time and chars typed."
   ]
  },
  {
   "cell_type": "code",
   "execution_count": 117,
   "metadata": {
    "collapsed": true
   },
   "outputs": [],
   "source": [
    "from scipy.stats import ttest_ind, ttest_rel, ttest_1samp"
   ]
  },
  {
   "cell_type": "code",
   "execution_count": 118,
   "metadata": {
    "collapsed": false
   },
   "outputs": [
    {
     "name": "stdout",
     "output_type": "stream",
     "text": [
      "p-value: 0.000\n"
     ]
    }
   ],
   "source": [
    "# t-test for difference in default and novel technique considering chars typed\n",
    "t_statistic, p_value = ttest_ind(times_default_chars, times_novel_chars)\n",
    "print(\"p-value: %2.3f\" %(p_value))\n",
    "# below 0.05 is statistically significant"
   ]
  },
  {
   "cell_type": "markdown",
   "metadata": {},
   "source": [
    "<h3>Calculate CPM</h3>"
   ]
  },
  {
   "cell_type": "code",
   "execution_count": 119,
   "metadata": {
    "collapsed": false
   },
   "outputs": [
    {
     "data": {
      "text/plain": [
       "218.19349884351885"
      ]
     },
     "execution_count": 119,
     "metadata": {},
     "output_type": "execute_result"
    }
   ],
   "source": [
    "(len(times_default_chars) / sum(times_default_chars)) * 60"
   ]
  },
  {
   "cell_type": "code",
   "execution_count": 120,
   "metadata": {
    "collapsed": false
   },
   "outputs": [
    {
     "data": {
      "text/plain": [
       "285.55812072716202"
      ]
     },
     "execution_count": 120,
     "metadata": {},
     "output_type": "execute_result"
    }
   ],
   "source": [
    "(len(times_default_chars) / sum(times_novel_chars)) * 60"
   ]
  },
  {
   "cell_type": "markdown",
   "metadata": {},
   "source": [
    "<h3>Key pressed data resumee</h3>"
   ]
  },
  {
   "cell_type": "markdown",
   "metadata": {},
   "source": [
    "TODO"
   ]
  },
  {
   "cell_type": "markdown",
   "metadata": {},
   "source": [
    "<h2>Evaluation of words typed data</h2>"
   ]
  },
  {
   "cell_type": "markdown",
   "metadata": {},
   "source": [
    "<u>Mean, median and standard deviation:</u>"
   ]
  },
  {
   "cell_type": "code",
   "execution_count": 121,
   "metadata": {
    "collapsed": false
   },
   "outputs": [
    {
     "data": {
      "text/plain": [
       "1.4346361129032259"
      ]
     },
     "execution_count": 121,
     "metadata": {},
     "output_type": "execute_result"
    }
   ],
   "source": [
    "mean(times_default_words)"
   ]
  },
  {
   "cell_type": "code",
   "execution_count": 122,
   "metadata": {
    "collapsed": false
   },
   "outputs": [
    {
     "data": {
      "text/plain": [
       "1.1909015000000001"
      ]
     },
     "execution_count": 122,
     "metadata": {},
     "output_type": "execute_result"
    }
   ],
   "source": [
    "median(times_default_words)"
   ]
  },
  {
   "cell_type": "code",
   "execution_count": 123,
   "metadata": {
    "collapsed": false,
    "scrolled": true
   },
   "outputs": [
    {
     "data": {
      "text/plain": [
       "0.72623880067802871"
      ]
     },
     "execution_count": 123,
     "metadata": {},
     "output_type": "execute_result"
    }
   ],
   "source": [
    "std(times_default_words)"
   ]
  },
  {
   "cell_type": "code",
   "execution_count": 124,
   "metadata": {
    "collapsed": false
   },
   "outputs": [
    {
     "data": {
      "text/plain": [
       "8.1755817499999992"
      ]
     },
     "execution_count": 124,
     "metadata": {},
     "output_type": "execute_result"
    }
   ],
   "source": [
    "mean(times_novel_words)"
   ]
  },
  {
   "cell_type": "code",
   "execution_count": 125,
   "metadata": {
    "collapsed": false
   },
   "outputs": [
    {
     "data": {
      "text/plain": [
       "8.2166785000000004"
      ]
     },
     "execution_count": 125,
     "metadata": {},
     "output_type": "execute_result"
    }
   ],
   "source": [
    "median(times_novel_words)"
   ]
  },
  {
   "cell_type": "code",
   "execution_count": 126,
   "metadata": {
    "collapsed": false,
    "scrolled": true
   },
   "outputs": [
    {
     "data": {
      "text/plain": [
       "2.1091136261486572"
      ]
     },
     "execution_count": 126,
     "metadata": {},
     "output_type": "execute_result"
    }
   ],
   "source": [
    "std(times_novel_words)"
   ]
  },
  {
   "cell_type": "markdown",
   "metadata": {},
   "source": [
    "<h3>Scatter plots and bar plots for word typed data</h3>"
   ]
  },
  {
   "cell_type": "markdown",
   "metadata": {},
   "source": [
    "Now scatter plots for both techniques are created, to show time data."
   ]
  },
  {
   "cell_type": "markdown",
   "metadata": {},
   "source": [
    "<u>Times for default technique data:</u>"
   ]
  },
  {
   "cell_type": "code",
   "execution_count": 127,
   "metadata": {
    "collapsed": false,
    "scrolled": false
   },
   "outputs": [
    {
     "data": {
      "image/png": "[encoded data removed]",
      "text/plain": [
       "<matplotlib.figure.Figure at 0x7ffb086b39b0>"
      ]
     },
     "metadata": {},
     "output_type": "display_data"
    }
   ],
   "source": [
    "# sets the range for the axis values\n",
    "IDdefWord = range (len(times_default_words))\n",
    "# draws scatter plot\n",
    "defWord = scatter(times_default_words, IDdefWord, color='purple')\n",
    "legend([defWord], ['default technique'], loc='upper right')\n",
    "xlabel('time in seconds')\n",
    "ylabel('number of words')\n",
    "show()"
   ]
  },
  {
   "cell_type": "markdown",
   "metadata": {},
   "source": [
    "<u>Times for novel technique data:</u>"
   ]
  },
  {
   "cell_type": "code",
   "execution_count": 128,
   "metadata": {
    "collapsed": false,
    "scrolled": false
   },
   "outputs": [
    {
     "data": {
      "image/png": "[encoded data removed]",
      "text/plain": [
       "<matplotlib.figure.Figure at 0x7ffb0875ab38>"
      ]
     },
     "metadata": {},
     "output_type": "display_data"
    }
   ],
   "source": [
    "# sets the range for the axis values\n",
    "IDnovWord = range (len(times_novel_words))\n",
    "# draws scatter plot\n",
    "novWord = scatter(times_novel_words, IDnovWord, color='green')\n",
    "legend([novWord], ['novel technique'], loc='upper right')\n",
    "xlabel('time in seconds')\n",
    "ylabel('number of words')\n",
    "show()"
   ]
  },
  {
   "cell_type": "markdown",
   "metadata": {},
   "source": [
    "<h3>Box plots</h3>"
   ]
  },
  {
   "cell_type": "markdown",
   "metadata": {},
   "source": [
    "This section shows the boxplot for novel and default technique data samples."
   ]
  },
  {
   "cell_type": "code",
   "execution_count": 129,
   "metadata": {
    "collapsed": false,
    "scrolled": false
   },
   "outputs": [
    {
     "data": {
      "image/png": "[encoded data removed]",
      "text/plain": [
       "<matplotlib.figure.Figure at 0x7ffb086b34e0>"
      ]
     },
     "metadata": {},
     "output_type": "display_data"
    }
   ],
   "source": [
    "# draws the boxplots\n",
    "boxplot([times_default_words, times_novel_words]);\n",
    "xticks(range(1,3), ['default technique', 'novel technique'])\n",
    "ylabel('time in seconds')\n",
    "show()"
   ]
  },
  {
   "cell_type": "markdown",
   "metadata": {},
   "source": [
    "<h3>T-tests</h3>"
   ]
  },
  {
   "cell_type": "markdown",
   "metadata": {},
   "source": [
    "Now two t-tests are performed to evaluate our hypotheses. The difference between default and novel technique is tested considering time and words typed."
   ]
  },
  {
   "cell_type": "code",
   "execution_count": 130,
   "metadata": {
    "collapsed": false,
    "scrolled": true
   },
   "outputs": [
    {
     "name": "stdout",
     "output_type": "stream",
     "text": [
      "p-value: 0.000\n"
     ]
    }
   ],
   "source": [
    "# t-test for difference default and novel technique regarding time\n",
    "t_statistic, p_value = ttest_ind(times_default_words, times_novel_words)\n",
    "print(\"p-value: %2.3f\" %(p_value))\n",
    "# below 0.05 is statistically significant"
   ]
  },
  {
   "cell_type": "markdown",
   "metadata": {},
   "source": [
    "<h3>Calculate WPM</h3>"
   ]
  },
  {
   "cell_type": "code",
   "execution_count": 131,
   "metadata": {
    "collapsed": false,
    "scrolled": true
   },
   "outputs": [
    {
     "data": {
      "text/plain": [
       "41.822452021356114"
      ]
     },
     "execution_count": 131,
     "metadata": {},
     "output_type": "execute_result"
    }
   ],
   "source": [
    "(len(times_default_words) / sum(times_default_words)) * 60"
   ]
  },
  {
   "cell_type": "code",
   "execution_count": 132,
   "metadata": {
    "collapsed": false,
    "scrolled": false
   },
   "outputs": [
    {
     "data": {
      "text/plain": [
       "56.876686481668422"
      ]
     },
     "execution_count": 132,
     "metadata": {},
     "output_type": "execute_result"
    }
   ],
   "source": [
    "(len(times_default_words) / sum(times_novel_words)) * 60"
   ]
  },
  {
   "cell_type": "markdown",
   "metadata": {},
   "source": [
    "<h3>Words typed data resumee</h3>"
   ]
  },
  {
   "cell_type": "markdown",
   "metadata": {},
   "source": [
    "TODO"
   ]
  },
  {
   "cell_type": "markdown",
   "metadata": {},
   "source": [
    "<h2>Evaluation of sentence typed data</h2>"
   ]
  },
  {
   "cell_type": "markdown",
   "metadata": {},
   "source": [
    "<u>Mean, median and standard deviation:</u>"
   ]
  },
  {
   "cell_type": "code",
   "execution_count": 133,
   "metadata": {
    "collapsed": false
   },
   "outputs": [
    {
     "data": {
      "text/plain": [
       "12.897265428571428"
      ]
     },
     "execution_count": 133,
     "metadata": {},
     "output_type": "execute_result"
    }
   ],
   "source": [
    "mean(times_default_sentences)"
   ]
  },
  {
   "cell_type": "code",
   "execution_count": 134,
   "metadata": {
    "collapsed": false
   },
   "outputs": [
    {
     "data": {
      "text/plain": [
       "12.858556"
      ]
     },
     "execution_count": 134,
     "metadata": {},
     "output_type": "execute_result"
    }
   ],
   "source": [
    "median(times_default_sentences)"
   ]
  },
  {
   "cell_type": "code",
   "execution_count": 135,
   "metadata": {
    "collapsed": false,
    "scrolled": true
   },
   "outputs": [
    {
     "data": {
      "text/plain": [
       "1.5572629430612137"
      ]
     },
     "execution_count": 135,
     "metadata": {},
     "output_type": "execute_result"
    }
   ],
   "source": [
    "std(times_default_sentences)"
   ]
  },
  {
   "cell_type": "code",
   "execution_count": 136,
   "metadata": {
    "collapsed": false
   },
   "outputs": [
    {
     "data": {
      "text/plain": [
       "9.9524324285714272"
      ]
     },
     "execution_count": 136,
     "metadata": {},
     "output_type": "execute_result"
    }
   ],
   "source": [
    "mean(times_novel_sentences)"
   ]
  },
  {
   "cell_type": "code",
   "execution_count": 137,
   "metadata": {
    "collapsed": false
   },
   "outputs": [
    {
     "data": {
      "text/plain": [
       "9.9461680000000001"
      ]
     },
     "execution_count": 137,
     "metadata": {},
     "output_type": "execute_result"
    }
   ],
   "source": [
    "median(times_novel_sentences)"
   ]
  },
  {
   "cell_type": "code",
   "execution_count": 138,
   "metadata": {
    "collapsed": false,
    "scrolled": true
   },
   "outputs": [
    {
     "data": {
      "text/plain": [
       "1.2845502200887124"
      ]
     },
     "execution_count": 138,
     "metadata": {},
     "output_type": "execute_result"
    }
   ],
   "source": [
    "std(times_novel_sentences)"
   ]
  },
  {
   "cell_type": "markdown",
   "metadata": {},
   "source": [
    "<h3>Scatter plots for sentence typed data</h3>"
   ]
  },
  {
   "cell_type": "markdown",
   "metadata": {},
   "source": [
    "Now scatter plots for both techniques are created, to show reaction time data."
   ]
  },
  {
   "cell_type": "markdown",
   "metadata": {},
   "source": [
    "<u>Times for default technique data:</u>"
   ]
  },
  {
   "cell_type": "code",
   "execution_count": 139,
   "metadata": {
    "collapsed": false,
    "scrolled": false
   },
   "outputs": [
    {
     "data": {
      "image/png": "[encoded data removed]",
      "text/plain": [
       "<matplotlib.figure.Figure at 0x7ffb0f2d3b38>"
      ]
     },
     "metadata": {},
     "output_type": "display_data"
    }
   ],
   "source": [
    "# sets the range for the axis values\n",
    "IDdefSen= range (len(times_default_sentences))\n",
    "# draws scatter plot\n",
    "defSen = scatter(times_default_sentences, IDdefSen, color='blue')\n",
    "legend([defSen], ['default technique'], loc='upper right')\n",
    "xlabel('time in seconds')\n",
    "ylabel('number of sentences')\n",
    "show()"
   ]
  },
  {
   "cell_type": "markdown",
   "metadata": {},
   "source": [
    "<u>Times for novel technique data:</u>"
   ]
  },
  {
   "cell_type": "code",
   "execution_count": 140,
   "metadata": {
    "collapsed": false,
    "scrolled": true
   },
   "outputs": [
    {
     "data": {
      "image/png": "[encoded data removed]",
      "text/plain": [
       "<matplotlib.figure.Figure at 0x7ffb0885f9e8>"
      ]
     },
     "metadata": {},
     "output_type": "display_data"
    }
   ],
   "source": [
    "# sets the range for the axis values\n",
    "IDnovSen = range (len(times_novel_sentences))\n",
    "# draws scatter plot\n",
    "novSen = scatter(times_novel_sentences, IDnovSen, color='gray')\n",
    "legend([novSen], ['novel technique'], loc='upper right')\n",
    "xlabel('time in seconds')\n",
    "ylabel('number of sentences')\n",
    "show()"
   ]
  },
  {
   "cell_type": "markdown",
   "metadata": {},
   "source": [
    "<h3>Box plots</h3>"
   ]
  },
  {
   "cell_type": "markdown",
   "metadata": {},
   "source": [
    "This section shows the boxplot for novel and default technique data samples."
   ]
  },
  {
   "cell_type": "code",
   "execution_count": 141,
   "metadata": {
    "collapsed": false,
    "scrolled": true
   },
   "outputs": [
    {
     "data": {
      "image/png": "[encoded data removed]",
      "text/plain": [
       "<matplotlib.figure.Figure at 0x7ffb082edd68>"
      ]
     },
     "metadata": {},
     "output_type": "display_data"
    }
   ],
   "source": [
    "# draws the boxplots\n",
    "boxplot([times_default_sentences, times_novel_sentences]);\n",
    "xticks(range(1,3), ['default technique', 'novel technique'])\n",
    "ylabel('time in seconds')\n",
    "show()"
   ]
  },
  {
   "cell_type": "markdown",
   "metadata": {},
   "source": [
    "<h3>T-tests</h3>"
   ]
  },
  {
   "cell_type": "markdown",
   "metadata": {},
   "source": [
    "Now two t-tests are performed to evaluate our hypotheses. The difference between default and novel technique is tested considering time and sentences typed."
   ]
  },
  {
   "cell_type": "code",
   "execution_count": 142,
   "metadata": {
    "collapsed": false,
    "scrolled": true
   },
   "outputs": [
    {
     "name": "stdout",
     "output_type": "stream",
     "text": [
      "p-value: 0.004\n"
     ]
    }
   ],
   "source": [
    "# t-test for difference default and novel technique regarding time\n",
    "t_statistic, p_value = ttest_ind(times_default_sentences, times_novel_sentences)\n",
    "print(\"p-value: %2.3f\" %(p_value))\n",
    "# below 0.05 is statistically significant"
   ]
  },
  {
   "cell_type": "markdown",
   "metadata": {},
   "source": [
    "<h3>Sentence typed data resumee</h3>"
   ]
  },
  {
   "cell_type": "markdown",
   "metadata": {},
   "source": [
    "TODO"
   ]
  },
  {
   "cell_type": "markdown",
   "metadata": {},
   "source": [
    "<h2>Evaluation of test finished data</h2>"
   ]
  },
  {
   "cell_type": "markdown",
   "metadata": {},
   "source": [
    "<u>Mean, median and standard deviation:</u>"
   ]
  },
  {
   "cell_type": "code",
   "execution_count": 143,
   "metadata": {
    "collapsed": false
   },
   "outputs": [
    {
     "data": {
      "text/plain": [
       "90.293135000000007"
      ]
     },
     "execution_count": 143,
     "metadata": {},
     "output_type": "execute_result"
    }
   ],
   "source": [
    "mean(times_default_finished)"
   ]
  },
  {
   "cell_type": "code",
   "execution_count": 144,
   "metadata": {
    "collapsed": false
   },
   "outputs": [
    {
     "data": {
      "text/plain": [
       "90.293135000000007"
      ]
     },
     "execution_count": 144,
     "metadata": {},
     "output_type": "execute_result"
    }
   ],
   "source": [
    "median(times_default_finished)"
   ]
  },
  {
   "cell_type": "code",
   "execution_count": 145,
   "metadata": {
    "collapsed": false,
    "scrolled": true
   },
   "outputs": [
    {
     "data": {
      "text/plain": [
       "0.0"
      ]
     },
     "execution_count": 145,
     "metadata": {},
     "output_type": "execute_result"
    }
   ],
   "source": [
    "std(times_default_finished)"
   ]
  },
  {
   "cell_type": "code",
   "execution_count": 146,
   "metadata": {
    "collapsed": false
   },
   "outputs": [
    {
     "data": {
      "text/plain": [
       "69.667919999999995"
      ]
     },
     "execution_count": 146,
     "metadata": {},
     "output_type": "execute_result"
    }
   ],
   "source": [
    "mean(times_novel_finished)"
   ]
  },
  {
   "cell_type": "code",
   "execution_count": 147,
   "metadata": {
    "collapsed": false
   },
   "outputs": [
    {
     "data": {
      "text/plain": [
       "69.667919999999995"
      ]
     },
     "execution_count": 147,
     "metadata": {},
     "output_type": "execute_result"
    }
   ],
   "source": [
    "median(times_novel_finished)"
   ]
  },
  {
   "cell_type": "code",
   "execution_count": 148,
   "metadata": {
    "collapsed": false,
    "scrolled": true
   },
   "outputs": [
    {
     "data": {
      "text/plain": [
       "0.0"
      ]
     },
     "execution_count": 148,
     "metadata": {},
     "output_type": "execute_result"
    }
   ],
   "source": [
    "std(times_novel_finished)"
   ]
  },
  {
   "cell_type": "markdown",
   "metadata": {},
   "source": [
    "<h3>Scatter plots for test finished data</h3>"
   ]
  },
  {
   "cell_type": "markdown",
   "metadata": {},
   "source": [
    "Now scatter plots for both techniques are created, to show time data."
   ]
  },
  {
   "cell_type": "markdown",
   "metadata": {},
   "source": [
    "<u>Times for default technique data:</u>"
   ]
  },
  {
   "cell_type": "code",
   "execution_count": 149,
   "metadata": {
    "collapsed": false,
    "scrolled": false
   },
   "outputs": [
    {
     "data": {
      "image/png": "[encoded data removed]",
      "text/plain": [
       "<matplotlib.figure.Figure at 0x7ffb081dc860>"
      ]
     },
     "metadata": {},
     "output_type": "display_data"
    }
   ],
   "source": [
    "# sets the range for the axis values\n",
    "IDdefFin = range (len(times_default_finished))\n",
    "# draws scatter plot\n",
    "defFin = scatter(times_default_finished, IDdefFin, color='turquoise')\n",
    "legend([defFin], ['default technique'], loc='upper right')\n",
    "xlabel('time in seconds')\n",
    "ylabel('number of subject')\n",
    "show()"
   ]
  },
  {
   "cell_type": "markdown",
   "metadata": {},
   "source": [
    "<u>Times for novel technique data:</u>"
   ]
  },
  {
   "cell_type": "code",
   "execution_count": 150,
   "metadata": {
    "collapsed": false,
    "scrolled": true
   },
   "outputs": [
    {
     "data": {
      "image/png": "[encoded data removed]",
      "text/plain": [
       "<matplotlib.figure.Figure at 0x7ffb0821c8d0>"
      ]
     },
     "metadata": {},
     "output_type": "display_data"
    }
   ],
   "source": [
    "# sets the range for the axis values\n",
    "IDnovFin = range (len(times_novel_finished))\n",
    "# draws scatter plot\n",
    "novFin = scatter(times_novel_finished, IDnovFin, color='yellow')\n",
    "legend([novFin], ['novel technique'], loc='upper right')\n",
    "xlabel('time in seconds')\n",
    "ylabel('number of subject')\n",
    "show()"
   ]
  },
  {
   "cell_type": "markdown",
   "metadata": {},
   "source": [
    "<h3>Box plots</h3>"
   ]
  },
  {
   "cell_type": "markdown",
   "metadata": {},
   "source": [
    "This section shows the boxplot for novel and default technique data samples."
   ]
  },
  {
   "cell_type": "code",
   "execution_count": 151,
   "metadata": {
    "collapsed": false,
    "scrolled": true
   },
   "outputs": [
    {
     "data": {
      "image/png": "[encoded data removed]",
      "text/plain": [
       "<matplotlib.figure.Figure at 0x7ffb083086d8>"
      ]
     },
     "metadata": {},
     "output_type": "display_data"
    }
   ],
   "source": [
    "# draws the boxplots\n",
    "boxplot([times_default_finished, times_novel_finished]);\n",
    "xticks(range(1,3), ['default technique', 'novel technique'])\n",
    "ylabel('time in seconds')\n",
    "show()"
   ]
  },
  {
   "cell_type": "markdown",
   "metadata": {},
   "source": [
    "<h3>T-tests</h3>"
   ]
  },
  {
   "cell_type": "markdown",
   "metadata": {},
   "source": [
    "Now two t-tests are performed to evaluate our hypotheses. The difference between default and novel technique is tested considering time and test finished."
   ]
  },
  {
   "cell_type": "code",
   "execution_count": 152,
   "metadata": {
    "collapsed": false,
    "scrolled": true
   },
   "outputs": [
    {
     "name": "stdout",
     "output_type": "stream",
     "text": [
      "p-value: nan\n"
     ]
    },
    {
     "name": "stderr",
     "output_type": "stream",
     "text": [
      "/usr/lib/python3/dist-packages/numpy/core/fromnumeric.py:3126: RuntimeWarning: Degrees of freedom <= 0 for slice\n",
      "  **kwargs)\n",
      "/usr/lib/python3/dist-packages/numpy/core/_methods.py:127: RuntimeWarning: invalid value encountered in double_scalars\n",
      "  ret = ret.dtype.type(ret / rcount)\n"
     ]
    }
   ],
   "source": [
    "# t-test for difference default and novel technique regarding time\n",
    "t_statistic, p_value = ttest_ind(times_default_finished, times_novel_finished)\n",
    "print(\"p-value: %2.3f\" %(p_value))\n",
    "# below 0.05 is statistically significant"
   ]
  },
  {
   "cell_type": "markdown",
   "metadata": {},
   "source": [
    "<h3>Test finished data resumee</h3>"
   ]
  },
  {
   "cell_type": "markdown",
   "metadata": {},
   "source": [
    "TODO"
   ]
  },
  {
   "cell_type": "markdown",
   "metadata": {},
   "source": [
    "<h2>Brief discussion of results</h2>"
   ]
  },
  {
   "cell_type": "markdown",
   "metadata": {},
   "source": [
    "TODO"
   ]
  },
  {
   "cell_type": "code",
   "execution_count": null,
   "metadata": {
    "collapsed": true
   },
   "outputs": [],
   "source": []
  }
 ],
 "metadata": {
  "kernelspec": {
   "display_name": "Python 3",
   "language": "python",
   "name": "python3"
  },
  "language_info": {
   "codemirror_mode": {
    "name": "ipython",
    "version": 3
   },
   "file_extension": ".py",
   "mimetype": "text/x-python",
   "name": "python",
   "nbconvert_exporter": "python",
   "pygments_lexer": "ipython3",
   "version": "3.5.3"
  }
 },
 "nbformat": 4,
 "nbformat_minor": 2
}
