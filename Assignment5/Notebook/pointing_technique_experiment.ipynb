{
 "cells": [
  {
   "cell_type": "markdown",
   "metadata": {},
   "source": [
    "<h1>Pointing technique experiment</h1>"
   ]
  },
  {
   "cell_type": "markdown",
   "metadata": {},
   "source": [
    "Contribution: Felix Kalley, Lena Manschewski"
   ]
  },
  {
   "cell_type": "markdown",
   "metadata": {},
   "source": [
    "<p>As part of an exercise in a university course about interaction techniques and technologies, we tried to optimize the ability to point and click with a computer mouse. Therefore we developed a new pointing method. The goal of this experiment is to detect, whether our technique is advantageous in comparison to the standard cursor behaviour. </p>\n",
    "\n",
    "<h2>Genesis of our Novel pointing technique</h2>\n",
    "<p>Our initial idea was to broaden the area a mouse can click with some kind of a cross (#) shaped cursor. Like a rook in chess can take another piece on the same row or line, our cursor should be able to click a target on the same x (and /)or y-axis. Two horizontal and two vertical lines should define the new clickable area. This approach soon turned out to be problematic, as we need to make sure, only the intended target really got clicked. Our cross cursor should have stretched above all of the screen, so often situations occured, where you could not select a single target, especially with many clickable targets on screen. </p>\n",
    "\n",
    "<p>To solve this problem, we came up with two conditions:\n",
    "\"1) If there are no unwanted targets in the same axis (x or y), you can click the intended target as long as your cursor is on the same axis.\n",
    "2) If there are other targets distracting, you have to select your target with the inner square (defined by the two horizontal and vertical lines #).\n",
    "This approach worked, but turned out to be way too complex to be of any use. Even with extensive periods of training, we seemed to be much slower than with the default cursor. During these tests though, we noticed that we often missclicked a target only by a few pixels with the default cursor, especially when we tried to be fast. Therefore our cross cursor idea was scrapped, but the inner square - mentioned in condition 2 - was kept, though transformed into a circle to even out the distance in every direction. Born was our circle cursor. The idea is still the same, instead of clicking a simple point or pixel, you can now click a broader area, in our case everything covered under a circle of around 20 px.</p>\n",
    "\n",
    "<p>Circle shaped cursors are often used for presenting, to highlight were a presenter is pointing to with his cursor. In contrast to our technique these highlighting cursors are only graphical overlays without extending the range of a click. The main difference between fitts' law pointing technique (default) and our novel technique (special) is that a user doesn't have to aim as precise, so this pointing technique may be faster than the default technique</p>\n",
    "\n",
    "<p> To test our cursor we formulated the following initial pair of hypotheses:</p>\n",
    "\n",
    "<h2>Hypothesis</h2>\n",
    "<p><b>H0</b>: There is <b>no</b> difference between the default and the special pointing technique</p>\n",
    "<p><b>H1</b>: There is <b>a</b> difference between the default and the special pointing technique</p>\n",
    "\n",
    "<p>As variables we chose time between successful target clicks, as well as error rate, number of missclicks before the correct target is clicked. Therefore the following pairs of hypotheses are tested in our analysis:</p>\n",
    "\n",
    "<p><b>H0</b>: There is <b>no</b> difference between the default and the special pointing technique considering time</p>\n",
    "<p><b>H1</b>: There is <b>a</b> difference between the default and the special pointing technique considering time</p>\n",
    "\n",
    "<p><b>H0</b>: There is <b>no</b> difference between the default and the special pointing technique considering error rate</p>\n",
    "<p><b>H1</b>: There is <b>a</b> difference between the default and the special pointing technique considering error rate</p>\n",
    "\n",
    "<h2>Experiment description</h2>\n",
    "<p> At first we developed a  python program which presents several targets on screen. Users had to click marked targets in 40 repetitions, divided in four rounds with 10 targets to click each. As targets we chose colored circles, one of them was colored in a lighter shade than the others. The user was informed that he had to click the lighter shaded circle, the others simply were meant as distraction.</p>\n",
    "\n",
    "<p>Each round uses another base color for the circles, whereas the order of these colors is counter-balanced and defined via the input file. A round is started with a press on the spacebar. Circles have to be clicked with the left mouse button. For each click, the program presents five circles to the subject which differ in size and distance from each other.</p>\n",
    "\n",
    "<p>Four subjects (2 female, 2 male), ranging in age from 22 to 30 years, were tested for this experiment. All subjects were media informatics students. To conduct our experiment we used a Macbook Pro 13 inch (late 2013) and a wireless Logitech M705 mouse. All subjects were tested in a quiet private room.</p>\n",
    "\n",
    "<h2>Interferences</h2>\n",
    "\n",
    "<p>While the colors were not a meaningful part of our experiment, we had to make sure, differing colors don't influence the the experiment in a significant way. To exclude any effects we formulated our hypotheses also for colors:</p>\n",
    "\n",
    "<p><b>H0</b>: There is <b>no</b> difference between circle colors considering time</p>\n",
    "<p><b>H1</b>: There is a difference between circle colors considering time</p>\n",
    "\n",
    "<p><b>H0</b>: There is <b>no</b> difference between circle colors considering error rate</p>\n",
    "<p><b>H1</b>: There is <b>a</b> difference between circle colors considering error rate</p>\n",
    "\n",
    "<h2>Variables</h2>\n",
    "<p> Part of our hypotheses are the following variables:</p>\n",
    "<p><b>Independent:</b> cursor type (or color)</p>\n",
    "<p><b>Dependent:</b> time and error rate</p>\n",
    "\n",
    "<h2> Experiment procedure </h2>\n",
    "<p>Four subjects (2 female, 2 male), ranging in age from 22 to 30 years, were tested for this experiment. All subjects were media informatics students. To conduct our experiment we used a Macbook Pro 13 inch (late 2013) and a wireless Logitech M705 mouse. All subjects were tested in a quiet private room. At the beginning subjects were given instructions and were able to ask questions. Then the python programm was started with the default cursor setting. After completing the test, the program was started with our own cursor method and the test was conducted a second time.</p>\n",
    "\n",
    "<p> All data we collected during the experiments are prepared and evaluated in the following section. </p>"
   ]
  },
  {
   "cell_type": "markdown",
   "metadata": {},
   "source": [
    "<h2>Data Import</h2>"
   ]
  },
  {
   "cell_type": "markdown",
   "metadata": {},
   "source": [
    "This section contains code handling the import of experiment data."
   ]
  },
  {
   "cell_type": "code",
   "execution_count": 108,
   "metadata": {
    "collapsed": false,
    "scrolled": true
   },
   "outputs": [],
   "source": [
    "import csv\n",
    "# array for all data\n",
    "overall_data= []\n",
    "# opens a file called 'data.csv'\n",
    "with open('data.csv', newline='') as csvfile:\n",
    "    # reads content of file delimited by comma and saves as data\n",
    "    data = csv.reader(csvfile, delimiter=',')\n",
    "    # saves every row from data in overall_data\n",
    "    # this is done because it seems the file instantly closes after use in this cell\n",
    "    # therefore the data variable seems to become useless\n",
    "    for row in data:\n",
    "        overall_data.append(row)"
   ]
  },
  {
   "cell_type": "markdown",
   "metadata": {},
   "source": [
    "<h2>Preparation of data</h2>"
   ]
  },
  {
   "cell_type": "markdown",
   "metadata": {},
   "source": [
    "Now the data will be prepared for further processing.\n",
    "Two clusters of data will be build, containing Fitts' Law pointing and our own technique.\n",
    "Then 4 other clusters will be build, separated by colors. After that two clusters of data will be build, containing the error rate for default and special cursor."
   ]
  },
  {
   "cell_type": "markdown",
   "metadata": {},
   "source": [
    "At first the two groups for default and special cursor will be created."
   ]
  },
  {
   "cell_type": "code",
   "execution_count": 109,
   "metadata": {
    "collapsed": false
   },
   "outputs": [],
   "source": [
    "# overall data is divived into two arrays containing default and special cursor times\n",
    "# index of column with cursor type data\n",
    "cursor_column_num = 9\n",
    "# index of column with time data\n",
    "time_column_num = 5\n",
    "# cannot use row as index position, therefore a counter is needed...\n",
    "row_counter = 0\n",
    "\n",
    "times_default = []\n",
    "times_special = []\n",
    "\n",
    "# checks if the word special or default is in the row and adds the row to the correspondent array\n",
    "# iterates over rows\n",
    "for row in overall_data:\n",
    "    # checks for keyword default\n",
    "    if overall_data[row_counter][cursor_column_num] == 'default':\n",
    "        # adds reaction times as float to default list\n",
    "        times_default.append(float(overall_data[row_counter][time_column_num]))\n",
    "    # checks for keyword special\n",
    "    elif overall_data[row_counter][cursor_column_num] == 'special':\n",
    "        # adds reaction times as float to special list\n",
    "        times_special.append(float(overall_data[row_counter][time_column_num]))\n",
    "    # checks for other cases. these are column names in our csv-file\n",
    "    else:\n",
    "        # skips them\n",
    "        pass\n",
    "    row_counter+=1"
   ]
  },
  {
   "cell_type": "markdown",
   "metadata": {},
   "source": [
    "In the same way the groups for the four colors (red, blue, green, gray) are built."
   ]
  },
  {
   "cell_type": "code",
   "execution_count": 110,
   "metadata": {
    "collapsed": false
   },
   "outputs": [],
   "source": [
    "# overall data is divived into four arrays each containing one color\n",
    "# index of column with color data\n",
    "color_column_num = 10\n",
    "# index of column with time data\n",
    "time_column_num = 5\n",
    "# counter needs a reset\n",
    "row_counter = 0\n",
    "\n",
    "times_red = []\n",
    "times_blue = []\n",
    "times_green = []\n",
    "times_gray = []\n",
    "\n",
    "# checks if the color is red, blue, green or gray and adds the row to the correspondent array\n",
    "# iterates over rows\n",
    "for row in overall_data:\n",
    "    # checks for keyword red\n",
    "    if overall_data[row_counter][color_column_num] == 'red':\n",
    "        # adds reaction times as float to red list\n",
    "        times_red.append(float(overall_data[row_counter][time_column_num]))\n",
    "    # checks for keyword blue\n",
    "    elif overall_data[row_counter][color_column_num] == 'blue':\n",
    "        # adds reaction times as float to blue list\n",
    "        times_blue.append(float(overall_data[row_counter][time_column_num]))\n",
    "    # checks for keyword green\n",
    "    elif overall_data[row_counter][color_column_num] == 'green':\n",
    "        # adds reaction times as float to green list\n",
    "        times_green.append(float(overall_data[row_counter][time_column_num]))\n",
    "    # checks for keyword gray\n",
    "    elif overall_data[row_counter][color_column_num] == 'gray':\n",
    "        # adds reaction times as float to gray list\n",
    "        times_gray.append(float(overall_data[row_counter][time_column_num]))\n",
    "    # checks for other cases. these are column names in our csv-file\n",
    "    else:\n",
    "        # skips them\n",
    "        pass\n",
    "    row_counter+=1"
   ]
  },
  {
   "cell_type": "markdown",
   "metadata": {},
   "source": [
    "In the same way the groups for the the error rate are built. First for default and special cursor."
   ]
  },
  {
   "cell_type": "code",
   "execution_count": 111,
   "metadata": {
    "collapsed": false
   },
   "outputs": [],
   "source": [
    "# overall data is divived into two arrays containing default and special cursor times\n",
    "# index of column with cursor type data\n",
    "cursor_column_num = 9\n",
    "# index of column with time data\n",
    "error_column_num = 8\n",
    "# cannot use row as index position, therefore a counter is needed...\n",
    "row_counter = 0\n",
    "\n",
    "errors_default = []\n",
    "errors_special = []\n",
    "\n",
    "dict_errors_default = {}\n",
    "dict_errors_special = {}\n",
    "\n",
    "# checks if the word special or default is in the row and adds the row to the correspondent array\n",
    "# iterates over rows\n",
    "for row in overall_data:\n",
    "    # checks for keyword default\n",
    "    if overall_data[row_counter][cursor_column_num] == 'default':\n",
    "        errors_default.append(float(overall_data[row_counter][error_column_num]))\n",
    "        # adds error rate as float to default list\n",
    "        val = float(overall_data[row_counter][error_column_num])\n",
    "        if val in dict_errors_default:\n",
    "            dict_errors_default[val] = dict_errors_default[val] + 1\n",
    "        else:\n",
    "            dict_errors_default[val] = 1\n",
    "    # checks for keyword special\n",
    "    elif overall_data[row_counter][cursor_column_num] == 'special':\n",
    "        errors_special.append(float(overall_data[row_counter][error_column_num]))\n",
    "        # adds error rate as float to special list\n",
    "        val = float(overall_data[row_counter][error_column_num])\n",
    "        if val in dict_errors_special:\n",
    "            dict_errors_special[val] = dict_errors_special[val] + 1\n",
    "        else:\n",
    "            dict_errors_special[val] = 1\n",
    "    # checks for other cases. these are column names in our csv-file\n",
    "    else:\n",
    "        # skips them\n",
    "        pass\n",
    "    row_counter+=1"
   ]
  },
  {
   "cell_type": "markdown",
   "metadata": {},
   "source": [
    "Second for color."
   ]
  },
  {
   "cell_type": "code",
   "execution_count": 112,
   "metadata": {
    "collapsed": false
   },
   "outputs": [],
   "source": [
    "# overall data is divived into four arrays each containing one color\n",
    "# index of column with color data\n",
    "color_column_num = 10\n",
    "# index of column with time data\n",
    "error_column_num = 8\n",
    "# counter needs a reset\n",
    "row_counter = 0\n",
    "\n",
    "errors_red = []\n",
    "errors_blue = []\n",
    "errors_green = []\n",
    "errors_gray = []\n",
    "\n",
    "\n",
    "dict_errors_red = {}\n",
    "dict_errors_blue = {}\n",
    "dict_errors_green = {}\n",
    "dict_errors_gray = {}\n",
    "\n",
    "# checks if the color is red, blue, green or gray and adds the row to the correspondent array\n",
    "# iterates over rows\n",
    "for row in overall_data:\n",
    "    # checks for keyword red\n",
    "    if overall_data[row_counter][color_column_num] == 'red':\n",
    "        errors_red.append(float(overall_data[row_counter][error_column_num]))\n",
    "        # adds error rate as float to red list\n",
    "        val = float(overall_data[row_counter][error_column_num])\n",
    "        if val in dict_errors_red:\n",
    "            dict_errors_red[val] = dict_errors_red[val] + 1\n",
    "        else:\n",
    "            dict_errors_red[val] = 1\n",
    "        # checks for keyword blue\n",
    "    elif overall_data[row_counter][color_column_num] == 'blue':\n",
    "        errors_blue.append(float(overall_data[row_counter][error_column_num]))\n",
    "        # adds error rate as float to blue list\n",
    "        val = float(overall_data[row_counter][error_column_num])\n",
    "        if val in dict_errors_blue:\n",
    "            dict_errors_blue[val] = dict_errors_blue[val] + 1\n",
    "        else:\n",
    "            dict_errors_blue[val] = 1\n",
    "    # checks for keyword green\n",
    "    elif overall_data[row_counter][color_column_num] == 'green':\n",
    "        errors_green.append(float(overall_data[row_counter][error_column_num]))\n",
    "        # adds error rate as float to green list\n",
    "        val = float(overall_data[row_counter][error_column_num])\n",
    "        if val in dict_errors_green:\n",
    "            dict_errors_green[val] = dict_errors_green[val] + 1\n",
    "        else:\n",
    "            dict_errors_green[val] = 1\n",
    "    # checks for keyword gray\n",
    "    elif overall_data[row_counter][color_column_num] == 'gray':\n",
    "        errors_gray.append(float(overall_data[row_counter][error_column_num]))\n",
    "        # adds error rate as float to gray list\n",
    "        val = float(overall_data[row_counter][error_column_num])\n",
    "        if val in dict_errors_gray:\n",
    "            dict_errors_gray[val] = dict_errors_gray[val] + 1\n",
    "        else:\n",
    "            dict_errors_gray[val] = 1\n",
    "    # checks for other cases. these are column names in our csv-file\n",
    "    else:\n",
    "        # skips them\n",
    "        pass\n",
    "    row_counter+=1"
   ]
  },
  {
   "cell_type": "markdown",
   "metadata": {},
   "source": [
    "<h2>Evaluation of color data</h2>"
   ]
  },
  {
   "cell_type": "markdown",
   "metadata": {},
   "source": [
    "In the following sections color data will be evaluated to see if this influences our hypotheses."
   ]
  },
  {
   "cell_type": "markdown",
   "metadata": {},
   "source": [
    "<h3>Scatter plots and bar plots for color data</h3>"
   ]
  },
  {
   "cell_type": "markdown",
   "metadata": {
    "collapsed": true
   },
   "source": [
    "This section shows scatter plots for each color with reaction time as x-axis and number of clicks as y-axis.\n",
    "Error rates for each color are shown as bar plots"
   ]
  },
  {
   "cell_type": "code",
   "execution_count": 113,
   "metadata": {
    "collapsed": true
   },
   "outputs": [],
   "source": [
    "# imports for plots\n",
    "%matplotlib inline\n",
    "from pylab import *"
   ]
  },
  {
   "cell_type": "code",
   "execution_count": 114,
   "metadata": {
    "collapsed": true
   },
   "outputs": [],
   "source": [
    "# sets the size of all following plots\n",
    "rcParams[\"figure.figsize\"] = (13, 8)"
   ]
  },
  {
   "cell_type": "markdown",
   "metadata": {},
   "source": [
    "<u>Times with red circles:</u>"
   ]
  },
  {
   "cell_type": "code",
   "execution_count": 115,
   "metadata": {
    "collapsed": false
   },
   "outputs": [
    {
     "data": {
      "image/png": "[encoded data removed]",
      "text/plain": [
       "<matplotlib.figure.Figure at 0x7fe911f08978>"
      ]
     },
     "metadata": {},
     "output_type": "display_data"
    }
   ],
   "source": [
    "# sets the range for the axis values\n",
    "IDred = range (len(times_red))\n",
    "# draws the scatter plot\n",
    "red = scatter(times_red, IDred, color='red')\n",
    "legend([red], ['red circles'], loc='upper right')\n",
    "xlabel('reaction time in ms')\n",
    "ylabel('number of clicks')\n",
    "show()"
   ]
  },
  {
   "cell_type": "markdown",
   "metadata": {},
   "source": [
    "<u>Times with blue circles:</u>"
   ]
  },
  {
   "cell_type": "code",
   "execution_count": 116,
   "metadata": {
    "collapsed": false,
    "scrolled": false
   },
   "outputs": [
    {
     "data": {
      "image/png": "[encoded data removed]",
      "text/plain": [
       "<matplotlib.figure.Figure at 0x7fe911da9278>"
      ]
     },
     "metadata": {},
     "output_type": "display_data"
    }
   ],
   "source": [
    "# sets the range for the axis values\n",
    "IDblue = range (len(times_blue))\n",
    "# draws the scatter plot\n",
    "blue = scatter(times_blue, IDblue, color='blue')\n",
    "legend([blue], ['blue circles'], loc='upper right')\n",
    "xlabel('reaction time in ms')\n",
    "ylabel('number of clicks')\n",
    "show()"
   ]
  },
  {
   "cell_type": "markdown",
   "metadata": {},
   "source": [
    "<u>Times with green circles:</u>"
   ]
  },
  {
   "cell_type": "code",
   "execution_count": 117,
   "metadata": {
    "collapsed": false
   },
   "outputs": [
    {
     "data": {
      "image/png": "[encoded data removed]",
      "text/plain": [
       "<matplotlib.figure.Figure at 0x7fe911bfecf8>"
      ]
     },
     "metadata": {},
     "output_type": "display_data"
    }
   ],
   "source": [
    "# sets the range for the axis values\n",
    "IDgreen = range (len(times_green))\n",
    "# draws the scatter plot\n",
    "green = scatter(times_green, IDgreen, color='green')\n",
    "legend([green], ['green circles'], loc='upper right')\n",
    "xlabel('reaction time in ms')\n",
    "ylabel('number of clicks')\n",
    "show()"
   ]
  },
  {
   "cell_type": "markdown",
   "metadata": {},
   "source": [
    "<u>Times with gray circles:</u>"
   ]
  },
  {
   "cell_type": "code",
   "execution_count": 118,
   "metadata": {
    "collapsed": false
   },
   "outputs": [
    {
     "data": {
      "image/png": "[encoded data removed]",
      "text/plain": [
       "<matplotlib.figure.Figure at 0x7fe907450c50>"
      ]
     },
     "metadata": {},
     "output_type": "display_data"
    }
   ],
   "source": [
    "# sets the range for the axis values\n",
    "IDgray = range (len(times_gray))\n",
    "# draws the scatter plot\n",
    "gray = scatter(times_gray, IDgray, color='gray')\n",
    "legend([gray], ['gray circles'], loc='upper right')\n",
    "xlabel('reaction time in ms')\n",
    "ylabel('number of clicks')\n",
    "show()"
   ]
  },
  {
   "cell_type": "markdown",
   "metadata": {},
   "source": [
    "<u>Reaction times for colors combined</u>"
   ]
  },
  {
   "cell_type": "code",
   "execution_count": 119,
   "metadata": {
    "collapsed": false
   },
   "outputs": [
    {
     "data": {
      "image/png": "[encoded data removed]",
      "text/plain": [
       "<matplotlib.figure.Figure at 0x7fe907431be0>"
      ]
     },
     "metadata": {},
     "output_type": "display_data"
    }
   ],
   "source": [
    "# sets the maximum range of all earlier used ranges as range for the axis values\n",
    "cID = range(len(max(times_red, times_blue, times_green, times_gray)))\n",
    "# draws the four scatter plots\n",
    "cred = scatter(times_red, cID, color = 'red')\n",
    "cblue = scatter(times_blue, cID, color = 'blue')\n",
    "cgreen = scatter(times_green, cID, color = 'green')\n",
    "cgray = scatter(times_gray, cID, color = 'gray')\n",
    "xlabel('reaction time in ms')\n",
    "ylabel('number of clicks')\n",
    "legend([cred, cblue, cgreen, cgray], ['red circles', 'blue circles', 'green circles', 'gray circles'], scatterpoints=1, loc='upper right')\n",
    "show()"
   ]
  },
  {
   "cell_type": "markdown",
   "metadata": {},
   "source": [
    "<u>Error rate for red circles:</u>"
   ]
  },
  {
   "cell_type": "code",
   "execution_count": 120,
   "metadata": {
    "collapsed": false
   },
   "outputs": [
    {
     "data": {
      "image/png": "[encoded data removed]",
      "text/plain": [
       "<matplotlib.figure.Figure at 0x7fe911c7f908>"
      ]
     },
     "metadata": {},
     "output_type": "display_data"
    }
   ],
   "source": [
    "# draws bar plot\n",
    "special_error = bar(list(dict_errors_red.keys()), list(dict_errors_red.values()), color='red')\n",
    "xlabel('errors per circle')\n",
    "ylabel('number of clicks')\n",
    "show()"
   ]
  },
  {
   "cell_type": "markdown",
   "metadata": {},
   "source": [
    "<u>Error rate for blue circles:</u>"
   ]
  },
  {
   "cell_type": "code",
   "execution_count": 121,
   "metadata": {
    "collapsed": false
   },
   "outputs": [
    {
     "data": {
      "image/png": "[encoded data removed]",
      "text/plain": [
       "<matplotlib.figure.Figure at 0x7fe92c3fceb8>"
      ]
     },
     "metadata": {},
     "output_type": "display_data"
    }
   ],
   "source": [
    "# draws bar plot\n",
    "special_error = bar(list(dict_errors_blue.keys()), list(dict_errors_blue.values()), color='blue')\n",
    "xlabel('errors per circle')\n",
    "ylabel('number of clicks')\n",
    "show()"
   ]
  },
  {
   "cell_type": "markdown",
   "metadata": {},
   "source": [
    "<u>Error rate for green circles:</u>"
   ]
  },
  {
   "cell_type": "code",
   "execution_count": 122,
   "metadata": {
    "collapsed": false
   },
   "outputs": [
    {
     "data": {
      "image/png": "[encoded data removed]",
      "text/plain": [
       "<matplotlib.figure.Figure at 0x7fe9119de7b8>"
      ]
     },
     "metadata": {},
     "output_type": "display_data"
    }
   ],
   "source": [
    "# draws bar plot\n",
    "special_error = bar(list(dict_errors_green.keys()), list(dict_errors_green.values()), color='green')\n",
    "xlabel('errors per circle')\n",
    "ylabel('number of clicks')\n",
    "show()"
   ]
  },
  {
   "cell_type": "markdown",
   "metadata": {},
   "source": [
    "<u>Error rate for gray circles:</u>"
   ]
  },
  {
   "cell_type": "code",
   "execution_count": 123,
   "metadata": {
    "collapsed": false
   },
   "outputs": [
    {
     "data": {
      "image/png": "[encoded data removed]",
      "text/plain": [
       "<matplotlib.figure.Figure at 0x7fe9075e6d68>"
      ]
     },
     "metadata": {},
     "output_type": "display_data"
    }
   ],
   "source": [
    "# draws bar plot\n",
    "special_error = bar(list(dict_errors_gray.keys()), list(dict_errors_gray.values()), color='gray')\n",
    "xlabel('errors per circle')\n",
    "ylabel('number of clicks')\n",
    "show()"
   ]
  },
  {
   "cell_type": "markdown",
   "metadata": {},
   "source": [
    "<h3>Boxplots for color data </h3>"
   ]
  },
  {
   "cell_type": "markdown",
   "metadata": {},
   "source": [
    "This section shows the boxplots for color data samples with reaction times as y-axis."
   ]
  },
  {
   "cell_type": "code",
   "execution_count": 124,
   "metadata": {
    "collapsed": false,
    "scrolled": true
   },
   "outputs": [
    {
     "data": {
      "image/png": "[encoded data removed]",
      "text/plain": [
       "<matplotlib.figure.Figure at 0x7fe90763e898>"
      ]
     },
     "metadata": {},
     "output_type": "display_data"
    }
   ],
   "source": [
    "# draws the boxplots\n",
    "boxplot([times_red, times_blue, times_green, times_gray]);\n",
    "xticks(range(1,5), ['red circles', 'blue circles', 'green circles', 'gray circles'])\n",
    "ylabel('reaction time in ms')\n",
    "show()"
   ]
  },
  {
   "cell_type": "markdown",
   "metadata": {},
   "source": [
    "<h3>t-Tests for color data </h3>"
   ]
  },
  {
   "cell_type": "markdown",
   "metadata": {},
   "source": [
    "Now t-tests are calculated for the color data. All four colors need to be compared to each other, so we need 6 tests for that (3*2*1). First the difference between colors is tested considering time. Second the difference is tested considering error rate."
   ]
  },
  {
   "cell_type": "code",
   "execution_count": 125,
   "metadata": {
    "collapsed": true
   },
   "outputs": [],
   "source": [
    "from scipy.stats import ttest_ind, ttest_rel, ttest_1samp"
   ]
  },
  {
   "cell_type": "markdown",
   "metadata": {},
   "source": [
    "<u>T-tests for times:</u>"
   ]
  },
  {
   "cell_type": "code",
   "execution_count": 126,
   "metadata": {
    "collapsed": false
   },
   "outputs": [
    {
     "name": "stdout",
     "output_type": "stream",
     "text": [
      "p-value: 0.992\n"
     ]
    }
   ],
   "source": [
    "# t-test for difference colors red and blue\n",
    "t_statistic, p_value = ttest_ind(times_red, times_blue)\n",
    "print(\"p-value: %2.3f\" %(p_value))\n",
    "# below 0.05 is statistically significant"
   ]
  },
  {
   "cell_type": "code",
   "execution_count": 127,
   "metadata": {
    "collapsed": false
   },
   "outputs": [
    {
     "name": "stdout",
     "output_type": "stream",
     "text": [
      "p-value: 0.918\n"
     ]
    }
   ],
   "source": [
    "# t-test for difference colors red and green\n",
    "t_statistic, p_value = ttest_ind(times_red, times_green)\n",
    "print(\"p-value: %2.3f\" %(p_value))\n",
    "# below 0.05 is statistically significant"
   ]
  },
  {
   "cell_type": "code",
   "execution_count": 128,
   "metadata": {
    "collapsed": false
   },
   "outputs": [
    {
     "name": "stdout",
     "output_type": "stream",
     "text": [
      "p-value: 0.646\n"
     ]
    }
   ],
   "source": [
    "# t-test for difference colors red and gray\n",
    "t_statistic, p_value = ttest_ind(times_red, times_gray)\n",
    "print(\"p-value: %2.3f\" %(p_value))\n",
    "# below 0.05 is statistically significant"
   ]
  },
  {
   "cell_type": "code",
   "execution_count": 129,
   "metadata": {
    "collapsed": false
   },
   "outputs": [
    {
     "name": "stdout",
     "output_type": "stream",
     "text": [
      "p-value: 0.910\n"
     ]
    }
   ],
   "source": [
    "# t-test for difference colors blue and green\n",
    "t_statistic, p_value = ttest_ind(times_blue, times_green)\n",
    "print(\"p-value: %2.3f\" %(p_value))\n",
    "# below 0.05 is statistically significant"
   ]
  },
  {
   "cell_type": "code",
   "execution_count": 130,
   "metadata": {
    "collapsed": false
   },
   "outputs": [
    {
     "name": "stdout",
     "output_type": "stream",
     "text": [
      "p-value: 0.636\n"
     ]
    }
   ],
   "source": [
    "# t-test for difference colors blue and gray\n",
    "t_statistic, p_value = ttest_ind(times_blue, times_gray)\n",
    "print(\"p-value: %2.3f\" %(p_value))\n",
    "# below 0.05 is statistically significant"
   ]
  },
  {
   "cell_type": "code",
   "execution_count": 131,
   "metadata": {
    "collapsed": false
   },
   "outputs": [
    {
     "name": "stdout",
     "output_type": "stream",
     "text": [
      "p-value: 0.758\n"
     ]
    }
   ],
   "source": [
    "# t-test for difference colors green and gray\n",
    "t_statistic, p_value = ttest_ind(times_green, times_gray)\n",
    "print(\"p-value: %2.3f\" %(p_value))\n",
    "# below 0.05 is statistically significant"
   ]
  },
  {
   "cell_type": "markdown",
   "metadata": {},
   "source": [
    "<u>T-tests for errors:</u>"
   ]
  },
  {
   "cell_type": "code",
   "execution_count": 132,
   "metadata": {
    "collapsed": false
   },
   "outputs": [
    {
     "name": "stdout",
     "output_type": "stream",
     "text": [
      "p-value: 0.777\n"
     ]
    }
   ],
   "source": [
    "# t-test for difference colors red and blue\n",
    "t_statistic, p_value = ttest_ind(errors_red, errors_blue)\n",
    "print(\"p-value: %2.3f\" %(p_value))\n",
    "# below 0.05 is statistically significant"
   ]
  },
  {
   "cell_type": "code",
   "execution_count": 133,
   "metadata": {
    "collapsed": false
   },
   "outputs": [
    {
     "name": "stdout",
     "output_type": "stream",
     "text": [
      "p-value: 0.306\n"
     ]
    }
   ],
   "source": [
    "# t-test for difference colors red and green\n",
    "t_statistic, p_value = ttest_ind(errors_red, errors_green)\n",
    "print(\"p-value: %2.3f\" %(p_value))\n",
    "# below 0.05 is statistically significant"
   ]
  },
  {
   "cell_type": "code",
   "execution_count": 134,
   "metadata": {
    "collapsed": false
   },
   "outputs": [
    {
     "name": "stdout",
     "output_type": "stream",
     "text": [
      "p-value: 0.757\n"
     ]
    }
   ],
   "source": [
    "# t-test for difference colors red and gray\n",
    "t_statistic, p_value = ttest_ind(errors_red, errors_gray)\n",
    "print(\"p-value: %2.3f\" %(p_value))\n",
    "# below 0.05 is statistically significant"
   ]
  },
  {
   "cell_type": "code",
   "execution_count": 135,
   "metadata": {
    "collapsed": false
   },
   "outputs": [
    {
     "name": "stdout",
     "output_type": "stream",
     "text": [
      "p-value: 0.522\n"
     ]
    }
   ],
   "source": [
    "# t-test for difference colors blue and green\n",
    "t_statistic, p_value = ttest_ind(errors_blue, errors_green)\n",
    "print(\"p-value: %2.3f\" %(p_value))\n",
    "# below 0.05 is statistically significant"
   ]
  },
  {
   "cell_type": "code",
   "execution_count": 136,
   "metadata": {
    "collapsed": false
   },
   "outputs": [
    {
     "name": "stdout",
     "output_type": "stream",
     "text": [
      "p-value: 1.000\n"
     ]
    }
   ],
   "source": [
    "# t-test for difference colors blue and gray\n",
    "t_statistic, p_value = ttest_ind(errors_blue, errors_gray)\n",
    "print(\"p-value: %2.3f\" %(p_value))\n",
    "# below 0.05 is statistically significant"
   ]
  },
  {
   "cell_type": "code",
   "execution_count": 137,
   "metadata": {
    "collapsed": false
   },
   "outputs": [
    {
     "name": "stdout",
     "output_type": "stream",
     "text": [
      "p-value: 0.471\n"
     ]
    }
   ],
   "source": [
    "# t-test for difference colors green and gray\n",
    "t_statistic, p_value = ttest_ind(errors_green, errors_gray)\n",
    "print(\"p-value: %2.3f\" %(p_value))\n",
    "# below 0.05 is statistically significant"
   ]
  },
  {
   "cell_type": "markdown",
   "metadata": {},
   "source": [
    "<h3>Color data resumee</h3>"
   ]
  },
  {
   "cell_type": "markdown",
   "metadata": {},
   "source": [
    "As none of the p-values is below 0.05, we can see there are no statistically significant differences between the colors used in the experiment. Therefore we keep our H0 Hypothesis, that there is no difference between colors of targets considering time or error rate. Therefore we can now assume, that - within our experiment - cursor data does not get influenced by different color choices."
   ]
  },
  {
   "cell_type": "markdown",
   "metadata": {},
   "source": [
    "<h2>Evaluation of cursor data</h2>"
   ]
  },
  {
   "cell_type": "markdown",
   "metadata": {},
   "source": [
    "<u>Mean, median and standard deviation for default cursor:</u>"
   ]
  },
  {
   "cell_type": "markdown",
   "metadata": {
    "collapsed": true
   },
   "source": [
    "<u>For Times:</u>"
   ]
  },
  {
   "cell_type": "code",
   "execution_count": 138,
   "metadata": {
    "collapsed": false
   },
   "outputs": [
    {
     "data": {
      "text/plain": [
       "726.33749999999998"
      ]
     },
     "execution_count": 138,
     "metadata": {},
     "output_type": "execute_result"
    }
   ],
   "source": [
    "mean(times_default)"
   ]
  },
  {
   "cell_type": "code",
   "execution_count": 139,
   "metadata": {
    "collapsed": false
   },
   "outputs": [
    {
     "data": {
      "text/plain": [
       "648.0"
      ]
     },
     "execution_count": 139,
     "metadata": {},
     "output_type": "execute_result"
    }
   ],
   "source": [
    "median(times_default)"
   ]
  },
  {
   "cell_type": "code",
   "execution_count": 140,
   "metadata": {
    "collapsed": false,
    "scrolled": true
   },
   "outputs": [
    {
     "data": {
      "text/plain": [
       "378.05806246362476"
      ]
     },
     "execution_count": 140,
     "metadata": {},
     "output_type": "execute_result"
    }
   ],
   "source": [
    "std(times_default)"
   ]
  },
  {
   "cell_type": "markdown",
   "metadata": {
    "collapsed": true
   },
   "source": [
    "<u>For Errors:</u>"
   ]
  },
  {
   "cell_type": "code",
   "execution_count": 141,
   "metadata": {
    "collapsed": false
   },
   "outputs": [
    {
     "data": {
      "text/plain": [
       "1.0625"
      ]
     },
     "execution_count": 141,
     "metadata": {},
     "output_type": "execute_result"
    }
   ],
   "source": [
    "mean(errors_default)"
   ]
  },
  {
   "cell_type": "code",
   "execution_count": 142,
   "metadata": {
    "collapsed": false
   },
   "outputs": [
    {
     "data": {
      "text/plain": [
       "1.0"
      ]
     },
     "execution_count": 142,
     "metadata": {},
     "output_type": "execute_result"
    }
   ],
   "source": [
    "median(errors_default)"
   ]
  },
  {
   "cell_type": "code",
   "execution_count": 143,
   "metadata": {
    "collapsed": false,
    "scrolled": true
   },
   "outputs": [
    {
     "data": {
      "text/plain": [
       "0.26663411259626929"
      ]
     },
     "execution_count": 143,
     "metadata": {},
     "output_type": "execute_result"
    }
   ],
   "source": [
    "std(errors_default)"
   ]
  },
  {
   "cell_type": "markdown",
   "metadata": {},
   "source": [
    "<u>Mean, median and standard deviation for special cursor:</u>"
   ]
  },
  {
   "cell_type": "markdown",
   "metadata": {},
   "source": [
    "<u>For Times:</u>"
   ]
  },
  {
   "cell_type": "code",
   "execution_count": 144,
   "metadata": {
    "collapsed": false
   },
   "outputs": [
    {
     "data": {
      "text/plain": [
       "658.74374999999998"
      ]
     },
     "execution_count": 144,
     "metadata": {},
     "output_type": "execute_result"
    }
   ],
   "source": [
    "mean(times_special)"
   ]
  },
  {
   "cell_type": "code",
   "execution_count": 145,
   "metadata": {
    "collapsed": false
   },
   "outputs": [
    {
     "data": {
      "text/plain": [
       "585.0"
      ]
     },
     "execution_count": 145,
     "metadata": {},
     "output_type": "execute_result"
    }
   ],
   "source": [
    "median(times_special)"
   ]
  },
  {
   "cell_type": "code",
   "execution_count": 146,
   "metadata": {
    "collapsed": false,
    "scrolled": false
   },
   "outputs": [
    {
     "data": {
      "text/plain": [
       "343.4895785696234"
      ]
     },
     "execution_count": 146,
     "metadata": {},
     "output_type": "execute_result"
    }
   ],
   "source": [
    "std(times_special)"
   ]
  },
  {
   "cell_type": "markdown",
   "metadata": {},
   "source": [
    "<u>For Errors:</u>"
   ]
  },
  {
   "cell_type": "code",
   "execution_count": 147,
   "metadata": {
    "collapsed": false
   },
   "outputs": [
    {
     "data": {
      "text/plain": [
       "1.0562499999999999"
      ]
     },
     "execution_count": 147,
     "metadata": {},
     "output_type": "execute_result"
    }
   ],
   "source": [
    "mean(errors_special)"
   ]
  },
  {
   "cell_type": "code",
   "execution_count": 148,
   "metadata": {
    "collapsed": false
   },
   "outputs": [
    {
     "data": {
      "text/plain": [
       "1.0"
      ]
     },
     "execution_count": 148,
     "metadata": {},
     "output_type": "execute_result"
    }
   ],
   "source": [
    "median(errors_special)"
   ]
  },
  {
   "cell_type": "code",
   "execution_count": 149,
   "metadata": {
    "collapsed": false,
    "scrolled": false
   },
   "outputs": [
    {
     "data": {
      "text/plain": [
       "0.23040385738958455"
      ]
     },
     "execution_count": 149,
     "metadata": {},
     "output_type": "execute_result"
    }
   ],
   "source": [
    "std(errors_special)"
   ]
  },
  {
   "cell_type": "markdown",
   "metadata": {},
   "source": [
    "<h3>Scatter plots and bar plots for cursor data</h3>"
   ]
  },
  {
   "cell_type": "markdown",
   "metadata": {},
   "source": [
    "Now scatter plots for both cursors are created and a combined plot follows in the end, to show reaction time data.\n",
    "Bar plots are used for error rates."
   ]
  },
  {
   "cell_type": "markdown",
   "metadata": {},
   "source": [
    "<u>Times for default cursor data:</u>"
   ]
  },
  {
   "cell_type": "code",
   "execution_count": 150,
   "metadata": {
    "collapsed": false,
    "scrolled": true
   },
   "outputs": [
    {
     "data": {
      "image/png": "[encoded data removed]",
      "text/plain": [
       "<matplotlib.figure.Figure at 0x7fe92c408e80>"
      ]
     },
     "metadata": {},
     "output_type": "display_data"
    }
   ],
   "source": [
    "# sets the range for the axis values\n",
    "IDdefault = range (len(times_default))\n",
    "# draws scatter plot\n",
    "default = scatter(times_default, IDdefault, color='purple')\n",
    "legend([default], ['default cursor'], loc='upper right')\n",
    "xlabel('reaction time in ms')\n",
    "ylabel('number of clicks')\n",
    "show()"
   ]
  },
  {
   "cell_type": "markdown",
   "metadata": {},
   "source": [
    "<u>Times for special cursor data:</u>"
   ]
  },
  {
   "cell_type": "code",
   "execution_count": 151,
   "metadata": {
    "collapsed": false
   },
   "outputs": [
    {
     "data": {
      "image/png": "[encoded data removed]",
      "text/plain": [
       "<matplotlib.figure.Figure at 0x7fe9076a1710>"
      ]
     },
     "metadata": {},
     "output_type": "display_data"
    }
   ],
   "source": [
    "# sets the range for the axis values\n",
    "IDspecial = range (len(times_special))\n",
    "# draws the scatter plot\n",
    "special = scatter(times_special, IDspecial, color='orange')\n",
    "legend([special], ['special cursor'], loc='upper right')\n",
    "xlabel('reaction time in ms')\n",
    "ylabel('number of clicks')\n",
    "show()"
   ]
  },
  {
   "cell_type": "markdown",
   "metadata": {},
   "source": [
    "<u>Reaction times combined:</u>"
   ]
  },
  {
   "cell_type": "markdown",
   "metadata": {},
   "source": [
    "Reaction times for special and defaul cursor"
   ]
  },
  {
   "cell_type": "code",
   "execution_count": 152,
   "metadata": {
    "collapsed": false
   },
   "outputs": [
    {
     "data": {
      "image/png": "[encoded data removed]",
      "text/plain": [
       "<matplotlib.figure.Figure at 0x7fe9076ce208>"
      ]
     },
     "metadata": {},
     "output_type": "display_data"
    }
   ],
   "source": [
    "# sets the maximum range of all earlier used ranges as range for the axis values\n",
    "cID = range(len(max(times_default, times_special)))\n",
    "# draws the four scatter plots\n",
    "cdefault = scatter(times_default, cID, color = 'purple')\n",
    "cspecial = scatter(times_special, cID, color = 'orange')\n",
    "xlabel('reaction time in ms')\n",
    "ylabel('number of clicks')\n",
    "legend([cdefault, cspecial], ['default cursor', 'special cursor'], scatterpoints=1, loc='upper right')\n",
    "show()"
   ]
  },
  {
   "cell_type": "markdown",
   "metadata": {},
   "source": [
    "<u>Error rate for default cursor:</u>"
   ]
  },
  {
   "cell_type": "code",
   "execution_count": 153,
   "metadata": {
    "collapsed": false
   },
   "outputs": [
    {
     "data": {
      "image/png": "[encoded data removed]",
      "text/plain": [
       "<matplotlib.figure.Figure at 0x7fe9076ceb70>"
      ]
     },
     "metadata": {},
     "output_type": "display_data"
    }
   ],
   "source": [
    "# draws bar plot\n",
    "default_error = bar(list(dict_errors_default.keys()), list(dict_errors_default.values()), color='purple')\n",
    "xlabel('errors per circle')\n",
    "ylabel('number of clicks')\n",
    "show()"
   ]
  },
  {
   "cell_type": "markdown",
   "metadata": {
    "collapsed": true
   },
   "source": [
    "<u>Error rate for special cursor:</u>"
   ]
  },
  {
   "cell_type": "code",
   "execution_count": 154,
   "metadata": {
    "collapsed": false
   },
   "outputs": [
    {
     "data": {
      "image/png": "[encoded data removed]",
      "text/plain": [
       "<matplotlib.figure.Figure at 0x7fe9072bb6d8>"
      ]
     },
     "metadata": {},
     "output_type": "display_data"
    }
   ],
   "source": [
    "# draws bar plot\n",
    "special_error = bar(list(dict_errors_special.keys()), list(dict_errors_special.values()), color='orange')\n",
    "xlabel('errors per circle')\n",
    "ylabel('number of clicks')\n",
    "show()"
   ]
  },
  {
   "cell_type": "markdown",
   "metadata": {},
   "source": [
    "<h2>Box plots</h2>"
   ]
  },
  {
   "cell_type": "markdown",
   "metadata": {},
   "source": [
    "This section shows the boxplot for special and default cursor data samples."
   ]
  },
  {
   "cell_type": "code",
   "execution_count": 155,
   "metadata": {
    "collapsed": false
   },
   "outputs": [
    {
     "data": {
      "image/png": "[encoded data removed]",
      "text/plain": [
       "<matplotlib.figure.Figure at 0x7fe911a97128>"
      ]
     },
     "metadata": {},
     "output_type": "display_data"
    }
   ],
   "source": [
    "# draws the boxplots\n",
    "boxplot([times_default, times_special]);\n",
    "xticks(range(1,3), ['default cursor', 'special cursor'])\n",
    "ylabel('reaction time in ms')\n",
    "show()"
   ]
  },
  {
   "cell_type": "markdown",
   "metadata": {},
   "source": [
    "<h2>T-tests</h2>"
   ]
  },
  {
   "cell_type": "markdown",
   "metadata": {},
   "source": [
    "Now two t-tests are performed to evaluate our hypotheses. First the difference between default and special cursor is tested considering time. Second the difference is tested considering error rate."
   ]
  },
  {
   "cell_type": "code",
   "execution_count": 156,
   "metadata": {
    "collapsed": false
   },
   "outputs": [
    {
     "name": "stdout",
     "output_type": "stream",
     "text": [
      "p-value: 0.096\n"
     ]
    }
   ],
   "source": [
    "# t-test for difference default and special cursor regarding time\n",
    "t_statistic, p_value = ttest_ind(times_default, times_special)\n",
    "print(\"p-value: %2.3f\" %(p_value))\n",
    "# below 0.05 is statistically significant"
   ]
  },
  {
   "cell_type": "code",
   "execution_count": 157,
   "metadata": {
    "collapsed": false
   },
   "outputs": [
    {
     "name": "stdout",
     "output_type": "stream",
     "text": [
      "p-value: 0.823\n"
     ]
    }
   ],
   "source": [
    "# t-test for difference default and special cursor regarding error rate\n",
    "t_statistic, p_value = ttest_ind(errors_default, errors_special)\n",
    "print(\"p-value: %2.3f\" %(p_value))\n",
    "# below 0.05 is statistically significant"
   ]
  },
  {
   "cell_type": "markdown",
   "metadata": {},
   "source": [
    "<h2>Brief discussion of results</h2>"
   ]
  },
  {
   "cell_type": "markdown",
   "metadata": {},
   "source": [
    "The results of the experiment show that the differences between both cursors are not statistically significant, therefore we keep our H0 Hypothesis, that there is no difference between our special cursor and the default cursor considering time or error rate. \n",
    "We can identify some tendencies though, as both times and error rate show a lower mean, median and standard deviation for the special cursor. The same tendency can be spotted in the bar plots and scatter plots."
   ]
  },
  {
   "cell_type": "code",
   "execution_count": null,
   "metadata": {
    "collapsed": true
   },
   "outputs": [],
   "source": []
  }
 ],
 "metadata": {
  "kernelspec": {
   "display_name": "Python 3",
   "language": "python",
   "name": "python3"
  },
  "language_info": {
   "codemirror_mode": {
    "name": "ipython",
    "version": 3
   },
   "file_extension": ".py",
   "mimetype": "text/x-python",
   "name": "python",
   "nbconvert_exporter": "python",
   "pygments_lexer": "ipython3",
   "version": "3.5.3"
  }
 },
 "nbformat": 4,
 "nbformat_minor": 2
}
